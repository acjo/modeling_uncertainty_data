{
 "cells": [
  {
   "cell_type": "markdown",
   "metadata": {
    "colab_type": "text",
    "id": "bW431NWpWQvg"
   },
   "source": [
    "# Pandas 3\n",
    "### Caelan Osman\n",
    "### Math 403, Section 1\n",
    "### Tue Sep, 14"
   ]
  },
  {
   "cell_type": "code",
   "execution_count": 2,
   "metadata": {
    "colab": {},
    "colab_type": "code",
    "id": "SUIQR8wua0n-"
   },
   "outputs": [],
   "source": [
    "import pandas as pd\n",
    "import numpy as np\n",
    "import matplotlib.pyplot as plt"
   ]
  },
  {
   "cell_type": "markdown",
   "metadata": {
    "colab_type": "text",
    "id": "WtvM7fKitmn0"
   },
   "source": [
    "# Problem 1"
   ]
  },
  {
   "cell_type": "code",
   "execution_count": 3,
   "metadata": {
    "colab": {},
    "colab_type": "code",
    "id": "UnY5vviOBe8s"
   },
   "outputs": [
    {
     "data": {
      "text/plain": [
       "(array([212.        ,  17.13915094,   3.41804873,   6.7       ,\n",
       "         15.1       ,  17.25      ,  19.325     ,  28.8       ]),\n",
       " array([565.        ,  29.33097345,  17.85139147,   1.        ,\n",
       "         17.        ,  25.        ,  36.        ,  96.        ]),\n",
       " array([565.        ,  56.95752212,  19.58836048,   9.        ,\n",
       "         42.        ,  55.        ,  70.        , 100.        ]))"
      ]
     },
     "execution_count": 3,
     "metadata": {},
     "output_type": "execute_result"
    }
   ],
   "source": [
    "def prob1():\n",
    "    \"\"\"\n",
    "    Use groupby objects to determine information about private\n",
    "    and public universities.\n",
    "    Specifically examine the columns 'S.F.Ratio', 'Top10perc',\n",
    "    and 'Top25perc'.\n",
    "    For each column return the values of the describe function\n",
    "    for the type of university with the higher mean.\n",
    "    \n",
    "    Return:\n",
    "        ans_1 (ndarray): describe array of universities with \n",
    "                         higher S.F.Ratio\n",
    "        ans_2 (ndarray): describe array of universities with\n",
    "                         more students from Top10perc\n",
    "        ans_3 (ndarray): describe array of universities with\n",
    "                         more students from Top25perc\n",
    "    \"\"\"\n",
    "    #read in data and change the name of the unnmaed column\n",
    "    data = pd.read_csv('college.csv', delimiter=',')\n",
    "    data = data.rename(columns = {'Unnamed: 0' : 'College Name'})\n",
    "    \n",
    "    #create grouby object\n",
    "    private_public = data.groupby('Private')\n",
    "    \n",
    "    #get description arrays of student/facult ration, top10, and top 25 percent\n",
    "    student_faculty_max = private_public['S.F.Ratio'].describe().idxmax()['mean']\n",
    "    student_faculty = private_public['S.F.Ratio'].describe().loc[str(student_faculty_max)].values\n",
    "    \n",
    "    top_10_max = private_public['Top10perc'].describe().idxmax()['mean']\n",
    "    top_10 = private_public['Top10perc'].describe().loc[str(top_10_max)].values\n",
    "    \n",
    "    top_25_max = private_public['Top25perc'].describe().idxmax()['mean']\n",
    "    top_25 = private_public['Top25perc'].describe().loc[str(top_25_max)].values\n",
    "\n",
    "    return student_faculty, top_10, top_25\n",
    "prob1()"
   ]
  },
  {
   "cell_type": "code",
   "execution_count": 4,
   "metadata": {
    "colab": {},
    "colab_type": "code",
    "id": "21bBA9dzCNxc",
    "scrolled": true
   },
   "outputs": [
    {
     "data": {
      "image/png": "[encoded data removed]",
      "text/plain": [
       "<Figure size 432x288 with 1 Axes>"
      ]
     },
     "metadata": {
      "needs_background": "light"
     },
     "output_type": "display_data"
    },
    {
     "data": {
      "image/png": "[encoded data removed]",
      "text/plain": [
       "<Figure size 432x288 with 1 Axes>"
      ]
     },
     "metadata": {
      "needs_background": "light"
     },
     "output_type": "display_data"
    }
   ],
   "source": [
    "def prob2():\n",
    "    \"\"\"\n",
    "    Use groupby visualizations to compare the following\n",
    "    in private and public universities:\n",
    "        1. Number of applicants, accept applicants, and\n",
    "           enrolled applicants\n",
    "        2. Range of price for room and board\n",
    "    \"\"\"\n",
    "    #read in data and change the name of the unnmaed column\n",
    "    data = pd.read_csv('college.csv', delimiter=',')\n",
    "    data = data.rename(columns = {'Unnamed: 0' : 'College Name'})\n",
    "    \n",
    "    #create grouby object\n",
    "    private_public = data.groupby('Private')\n",
    "    \n",
    "    #visualization to compare num of applicatns, accpeted applicants, and enrolled\n",
    "    private_public[[\"Apps\", \"Accept\", \"Enroll\"]].mean().plot(kind=\"barh\",\n",
    "        xerr=private_public.std(), title=r\"Application Stistics, $\\mu\\pm\\sigma$\")\n",
    "    plt.xlabel(\"Number of Students\")\n",
    "    plt.ylabel(\"Private or Public\")\n",
    "    plt.show()\n",
    "    \n",
    "    #visualization to compare room and board costs\n",
    "    data.boxplot([\"Room.Board\"], by=\"Private\", grid=False)\n",
    "    plt.suptitle('')\n",
    "    plt.show()\n",
    "    \n",
    "    return\n",
    "prob2()"
   ]
  },
  {
   "cell_type": "markdown",
   "metadata": {
    "colab_type": "text",
    "id": "XQJj5O7btqQW"
   },
   "source": [
    "# Problem 3"
   ]
  },
  {
   "cell_type": "code",
   "execution_count": 5,
   "metadata": {
    "colab": {},
    "colab_type": "code",
    "id": "Qs3BS0NKRgo1"
   },
   "outputs": [
    {
     "data": {
      "text/plain": [
       "((1, 1), (3, 2), (3, 1))"
      ]
     },
     "execution_count": 5,
     "metadata": {},
     "output_type": "execute_result"
    }
   ],
   "source": [
    "def prob3():\n",
    "    \"\"\"\n",
    "    Use Ohio_1999.csv and pivot tables to answer the\n",
    "    following questions\n",
    "        1. Which race/sex combination makes the most money in total?\n",
    "        2. Which race/sex combination worked the least amount of \n",
    "            cumulative hours?\n",
    "        3. What race/sex combination worked the most hours per week per person?\n",
    "    \n",
    "    Returns:\n",
    "        ans_1 (tuple): tuple with race and sex code, respectively\n",
    "        ans_2 (tuple): tuple with race and sex code, respectively\n",
    "        ans_3 (tuple): tuple with race and sex code, respectively\n",
    "    \"\"\"\n",
    "    #read in data\n",
    "    data = pd.read_csv('Ohio_1999.csv', delimiter=',')\n",
    "    \n",
    "    #get race/sex combination making the most money in total\n",
    "    money = data.pivot_table(values='Usual Weekly Earnings', \n",
    "                             index=['Race', 'Sex'], aggfunc='sum')\n",
    "    most_money = money.idxmax()\n",
    "    \n",
    "    #get race/sex combination making the most money in total\n",
    "    hours = data.pivot_table(values='Usual Hours Worked', \n",
    "                             index=['Race', 'Sex'], aggfunc='sum')\n",
    "    most_hours = hours.idxmin()\n",
    "    \n",
    "    #get race/sex combination making the most money in total\n",
    "    avg_hours = data.pivot_table(values='Usual Hours Worked', \n",
    "                                 index=['Race', 'Sex'], aggfunc='mean')\n",
    "    most_avg_hours = avg_hours.idxmax()\n",
    "    \n",
    "    return tuple(most_money[0]), tuple(most_hours[0]), tuple(most_avg_hours[0])\n",
    "    \n",
    "    \n",
    "prob3()"
   ]
  },
  {
   "cell_type": "markdown",
   "metadata": {
    "colab_type": "text",
    "id": "w0OmwW_VtsAp"
   },
   "source": [
    "# Problem 4"
   ]
  },
  {
   "cell_type": "code",
   "execution_count": 6,
   "metadata": {
    "colab": {},
    "colab_type": "code",
    "id": "in76s4x5iAX9"
   },
   "outputs": [
    {
     "data": {
      "text/plain": [
       "(Interval(39, 43, closed='left'),\n",
       " Interval(40.0, 46.0, closed='right'),\n",
       " (Interval(15.999, 29.0, closed='right'), Interval(0, 39, closed='left')))"
      ]
     },
     "execution_count": 6,
     "metadata": {},
     "output_type": "execute_result"
    }
   ],
   "source": [
    "def prob4():\n",
    "    \"\"\"\n",
    "    Use Ohio_1999.csv to answer the following questions:\n",
    "        1. What is the most common degree among workers?\n",
    "        2. Which age group works the most hours on average?\n",
    "        3. What age/degree combination has the smallest yearly\n",
    "           salary on average?\n",
    "    \n",
    "    Return:\n",
    "        ans_1 (Interval): degree interval\n",
    "        ans_2 (Interval): age interval\n",
    "        ans_3 (Interval, Interval): age interval and degree interval\n",
    "    \"\"\"\n",
    "    #read in data\n",
    "    data = pd.read_csv('Ohio_1999.csv', delimiter=',')\n",
    "    \n",
    "    #cut data and get most common degree\n",
    "    degree = pd.cut(data['Educational Attainment'], [0, 39, 43, 46], right=False)\n",
    "    most_common_degree = data.pivot_table(values='Educational Attainment', \n",
    "                                          index=degree, \n",
    "                                          aggfunc='count').idxmax()[0]\n",
    "    #cut dta and get most common age\n",
    "    age = pd.qcut(data['Age'], 6)\n",
    "    most_hours = data.pivot_table(values='Usual Hours Worked', \n",
    "                                  index=age).idxmax()[0]\n",
    "    \n",
    "    #get age/degree combination for smallest yearly salary.\n",
    "    smallest_sallary = data.pivot_table(values='Yearly Salary', \n",
    "                                        index=[age, degree]).idxmin()[0]\n",
    "    \n",
    "    return most_common_degree, most_hours, smallest_sallary\n",
    "\n",
    "prob4()"
   ]
  },
  {
   "cell_type": "markdown",
   "metadata": {
    "colab_type": "text",
    "id": "p_583lcgtuQv"
   },
   "source": [
    "# Problem 5"
   ]
  },
  {
   "cell_type": "code",
   "execution_count": 14,
   "metadata": {
    "colab": {},
    "colab_type": "code",
    "id": "I8vUMUB4fjHR"
   },
   "outputs": [
    {
     "name": "stdout",
     "output_type": "stream",
     "text": [
      "False\n",
      "False\n",
      "True\n",
      "Because of the negative correlation found in part 3,\n",
      "it follows that a private university with a low\n",
      "acceptance rate will have a high proportion of students\n",
      "who were in the top 10% of their high school class.\n"
     ]
    }
   ],
   "source": [
    "def prob5():\n",
    "    \"\"\"\n",
    "    Use pivot tables and groupby objects on the data in\n",
    "    College.csv to answer the following questions:\n",
    "        1. Is there a correlation between the percent of alumni\n",
    "           that donate and the amount the school spends per\n",
    "           student in both private and public universities?\n",
    "        2. Is the graduation rate partition with the greatest\n",
    "           number of schools the same for private and public\n",
    "           universities?\n",
    "        3. Is there an inverse correlation between acceptance\n",
    "           rate and having students from the top 10% of their\n",
    "           high school class?\n",
    "        4. Why is the average percentage of students admitted\n",
    "           from the top 10 percent of their high school class\n",
    "           so high in private universities with very low\n",
    "           acceptance rates? Use only the data to explain why; \n",
    "           do not extrapolate.\n",
    "    \n",
    "    Returns:\n",
    "        ans_1 (bool): answer to question 1\n",
    "        ans_2 (bool): answer to question 2\n",
    "        ans_3 (bool): answer to question 3\n",
    "        ans_4 (str): answer to question 4\n",
    "    \"\"\"\n",
    "    #read in data and rename unnamed column\n",
    "    data = pd.read_csv('college.csv', delimiter=',')\n",
    "    data = data.rename(columns = {'Unnamed: 0' : 'College Name'})\n",
    "    \n",
    "    #create grouby object\n",
    "    private_public = data.groupby('Private')\n",
    "    #get correlation matrix to understand if the two given data types are correlated\n",
    "    correlation_mat_expend = private_public[['perc.alumni', 'Expend']].corr()\n",
    "    ans1 = False\n",
    "\n",
    "    #partition grad rate and make a pivot table. \n",
    "    grad_rate = pd.cut(data['Grad.Rate'], [0, 20, 40, 60, 80, 100])\n",
    "    college_pivot = data.pivot_table(values='Grad.Rate', \n",
    "                                     index=grad_rate, columns='Private', \n",
    "                                     aggfunc='count')\n",
    "    ans2 = False\n",
    "    \n",
    "    correlation_mat_acceptance = private_public[['Top10perc', 'Accept']].corr()\n",
    "    ans3 = True\n",
    "    \n",
    "    ans4 = 'Because of the negative correlation found in part 3,\\n'\n",
    "    ans4 += 'it follows that a private university with a low\\n'\n",
    "    ans4 += 'acceptance rate will have a high proportion of students\\n' \n",
    "    ans4 += 'who were in the top 10% of their high school class.'\n",
    "    return ans1, ans2, ans3, ans4\n",
    "\n",
    "print(prob5()[0])\n",
    "print(prob5()[1])\n",
    "print(prob5()[2])\n",
    "print(prob5()[3])\n"
   ]
  }
 ],
 "metadata": {
  "colab": {
   "collapsed_sections": [],
   "name": "pandas3.ipynb",
   "provenance": [],
   "version": "0.3.2"
  },
  "kernelspec": {
   "display_name": "Python 3 (ipykernel)",
   "language": "python",
   "name": "python3"
  },
  "language_info": {
   "codemirror_mode": {
    "name": "ipython",
    "version": 3
   },
   "file_extension": ".py",
   "mimetype": "text/x-python",
   "name": "python",
   "nbconvert_exporter": "python",
   "pygments_lexer": "ipython3",
   "version": "3.8.11"
  }
 },
 "nbformat": 4,
 "nbformat_minor": 1
}
