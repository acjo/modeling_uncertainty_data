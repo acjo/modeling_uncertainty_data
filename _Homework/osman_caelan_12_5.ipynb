{
 "cells": [
  {
   "cell_type": "markdown",
   "id": "99395ce7",
   "metadata": {},
   "source": [
    "## Exercise 12.17"
   ]
  },
  {
   "cell_type": "code",
   "execution_count": 1,
   "id": "4e3189b3",
   "metadata": {},
   "outputs": [],
   "source": [
    "import numpy as np\n",
    "import string\n",
    "from hmmlearn import hmm"
   ]
  },
  {
   "cell_type": "markdown",
   "id": "dfef0d48",
   "metadata": {},
   "source": [
    "### Part 1"
   ]
  },
  {
   "cell_type": "code",
   "execution_count": 2,
   "id": "fad675ae",
   "metadata": {},
   "outputs": [],
   "source": [
    "def vec_translate(a, my_dict):\n",
    "    # translate array from symbols to state numbers or vice versa\n",
    "    \n",
    "    return np.vectorize(my_dict.__getitem__)(a)\n",
    "\n",
    "def prep_data(filename):\n",
    "    \n",
    "    # Get the data as a single string\n",
    "    with open(filename) as f:\n",
    "        data = f.read().lower() # read and convert to lower case\n",
    "        \n",
    "    # remove punctuation and newlines\n",
    "    remove_punct = {ord(char) : None for char in string.punctuation+\"\\n\\r\"}\n",
    "    data = data.translate(remove_punct)\n",
    "    symbls = sorted(list(set(data)))\n",
    "    \n",
    "    # convert the data to a NumPy array of symbols\n",
    "    a = np.array(list(data))\n",
    "                \n",
    "    # make a conversion dict from symbols to state number\n",
    "    symbls_to_obs = {x:i for i,x in enumerate(symbls)}\n",
    "    \n",
    "    # convert the symbols in a to state numbers\n",
    "    obs_sequence = vec_translate(a, symbls_to_obs)\n",
    "    \n",
    "    return symbls, obs_sequence\n",
    "symbols, obs = prep_data('declaration.txt')"
   ]
  },
  {
   "cell_type": "markdown",
   "id": "8fb33a15",
   "metadata": {},
   "source": [
    "### Part 3"
   ]
  },
  {
   "cell_type": "code",
   "execution_count": 3,
   "id": "2205793e",
   "metadata": {},
   "outputs": [],
   "source": [
    "dec = hmm.MultinomialHMM(n_components=2, n_iter=200, tol=0.0001)"
   ]
  },
  {
   "cell_type": "markdown",
   "id": "0f3f55be",
   "metadata": {},
   "source": [
    "### Part 4"
   ]
  },
  {
   "cell_type": "code",
   "execution_count": 4,
   "id": "fba28681",
   "metadata": {},
   "outputs": [
    {
     "data": {
      "text/plain": [
       "MultinomialHMM(n_components=2, n_iter=200,\n",
       "               random_state=RandomState(MT19937) at 0x7F19D8538340, tol=0.0001)"
      ]
     },
     "execution_count": 4,
     "metadata": {},
     "output_type": "execute_result"
    }
   ],
   "source": [
    "dec.fit(obs.reshape(-1, 1))"
   ]
  },
  {
   "cell_type": "markdown",
   "id": "040ca913",
   "metadata": {},
   "source": [
    "### Part 5"
   ]
  },
  {
   "cell_type": "code",
   "execution_count": 5,
   "id": "6fcc7170",
   "metadata": {},
   "outputs": [
    {
     "name": "stdout",
     "output_type": "stream",
     "text": [
      "  : 0.2992, 0.0495\n",
      "a : 0.1316, 0.0000\n",
      "b : 0.0000, 0.0226\n",
      "c : 0.0000, 0.0438\n",
      "d : 0.0000, 0.0600\n",
      "e : 0.2370, 0.0000\n",
      "f : 0.0000, 0.0428\n",
      "g : 0.0000, 0.0309\n",
      "h : 0.0003, 0.0828\n",
      "i : 0.1239, 0.0000\n",
      "j : 0.0000, 0.0038\n",
      "k : 0.0004, 0.0030\n",
      "l : 0.0000, 0.0543\n",
      "m : 0.0000, 0.0343\n",
      "n : 0.0000, 0.1149\n",
      "o : 0.1382, 0.0029\n",
      "p : 0.0000, 0.0328\n",
      "q : 0.0000, 0.0014\n",
      "r : 0.0000, 0.1011\n",
      "s : 0.0000, 0.1138\n",
      "t : 0.0000, 0.1523\n",
      "u : 0.0577, 0.0000\n",
      "v : 0.0000, 0.0176\n",
      "w : 0.0000, 0.0231\n",
      "x : 0.0000, 0.0021\n",
      "y : 0.0117, 0.0092\n",
      "z : 0.0000, 0.0010\n"
     ]
    }
   ],
   "source": [
    "B = dec.emissionprob_.T\n",
    "for i,b in enumerate(B):\n",
    "    print(f\"{symbols[i]} : {b[0]:0.4f}, {b[1]:0.4f}\")"
   ]
  },
  {
   "cell_type": "markdown",
   "id": "c7869892",
   "metadata": {},
   "source": [
    "As mentioned in the book, it looks like we have detected a consonant and vowel state. "
   ]
  },
  {
   "cell_type": "code",
   "execution_count": 6,
   "id": "d5568068",
   "metadata": {},
   "outputs": [
    {
     "name": "stdout",
     "output_type": "stream",
     "text": [
      "  : 0.2712, 0.2076, 0.0164\n",
      "a : 0.1735, 0.0000, 0.0000\n",
      "b : 0.0000, 0.0018, 0.0342\n",
      "c : 0.0000, 0.0170, 0.0539\n",
      "d : 0.0000, 0.0690, 0.0320\n",
      "e : 0.1822, 0.1478, 0.0000\n",
      "f : 0.0000, 0.0103, 0.0584\n",
      "g : 0.0000, 0.0330, 0.0189\n",
      "h : 0.0000, 0.1440, 0.0000\n",
      "i : 0.1427, 0.0234, 0.0000\n",
      "j : 0.0000, 0.0049, 0.0016\n",
      "k : 0.0009, 0.0028, 0.0017\n",
      "l : 0.0000, 0.0426, 0.0470\n",
      "m : 0.0011, 0.0146, 0.0399\n",
      "n : 0.0000, 0.0018, 0.1804\n",
      "o : 0.1505, 0.0409, 0.0000\n",
      "p : 0.0000, 0.0141, 0.0391\n",
      "q : 0.0000, 0.0016, 0.0008\n",
      "r : 0.0001, 0.0397, 0.1238\n",
      "s : 0.0016, 0.0639, 0.1200\n",
      "t : 0.0000, 0.0832, 0.1652\n",
      "u : 0.0760, 0.0000, 0.0000\n",
      "v : 0.0000, 0.0046, 0.0237\n",
      "w : 0.0000, 0.0020, 0.0347\n",
      "x : 0.0000, 0.0000, 0.0034\n",
      "y : 0.0000, 0.0295, 0.0036\n",
      "z : 0.0000, 0.0000, 0.0015\n"
     ]
    }
   ],
   "source": [
    "dec = hmm.MultinomialHMM(n_components=3, n_iter=200, tol=0.0001)\n",
    "dec.fit(obs.reshape(-1, 1))\n",
    "B = dec.emissionprob_.T\n",
    "for i,b in enumerate(B):\n",
    "    print(f\"{symbols[i]} : {b[0]:0.4f}, {b[1]:0.4f}, {b[2]:0.4f}\")"
   ]
  },
  {
   "cell_type": "markdown",
   "id": "56d03bbf",
   "metadata": {},
   "source": [
    "It looks like the first state is still a vowel state as looking at all the letters with \"large\" nonzero numbers in the first column are vowels. \n",
    "The second column seems to still closeley represent consonants. \n",
    "The final column seems to represent more closely the most common letters in the alphabet. \n",
    "A quick search will tell you that $E, A, R, I , O, T, N, S$ are among the most common which are all largely represented in the final column. "
   ]
  },
  {
   "cell_type": "code",
   "execution_count": 7,
   "id": "882b7df7",
   "metadata": {},
   "outputs": [
    {
     "name": "stdout",
     "output_type": "stream",
     "text": [
      "  : 0.2678, 0.0027, 0.0000, 0.4267\n",
      "a : 0.1944, 0.0000, 0.0036, 0.0000\n",
      "b : 0.0000, 0.0382, 0.0020, 0.0020\n",
      "c : 0.0000, 0.0524, 0.0393, 0.0000\n",
      "d : 0.0000, 0.0152, 0.1337, 0.0031\n",
      "e : 0.1222, 0.0000, 0.0000, 0.3773\n",
      "f : 0.0000, 0.0624, 0.0221, 0.0000\n",
      "g : 0.0000, 0.0184, 0.0549, 0.0000\n",
      "h : 0.0000, 0.0000, 0.2200, 0.0000\n",
      "i : 0.1581, 0.0000, 0.0139, 0.0294\n",
      "j : 0.0000, 0.0004, 0.0095, 0.0000\n",
      "k : 0.0011, 0.0017, 0.0047, 0.0000\n",
      "l : 0.0000, 0.0485, 0.0641, 0.0092\n",
      "m : 0.0024, 0.0363, 0.0301, 0.0040\n",
      "n : 0.0000, 0.1994, 0.0123, 0.0000\n",
      "o : 0.1650, 0.0000, 0.0578, 0.0143\n",
      "p : 0.0000, 0.0371, 0.0304, 0.0024\n",
      "q : 0.0000, 0.0000, 0.0038, 0.0000\n",
      "r : 0.0063, 0.1227, 0.0637, 0.0158\n",
      "s : 0.0009, 0.1117, 0.1179, 0.0196\n",
      "t : 0.0000, 0.1831, 0.0664, 0.0731\n",
      "u : 0.0818, 0.0000, 0.0000, 0.0071\n",
      "v : 0.0000, 0.0252, 0.0097, 0.0000\n",
      "w : 0.0000, 0.0368, 0.0073, 0.0000\n",
      "x : 0.0000, 0.0039, 0.0000, 0.0000\n",
      "y : 0.0000, 0.0024, 0.0326, 0.0159\n",
      "z : 0.0000, 0.0017, 0.0000, 0.0000\n"
     ]
    }
   ],
   "source": [
    "dec = hmm.MultinomialHMM(n_components=4, n_iter=200, tol=0.0001)\n",
    "dec.fit(obs.reshape(-1, 1))\n",
    "B = dec.emissionprob_.T\n",
    "for i,b in enumerate(B):\n",
    "    print(f\"{symbols[i]} : {b[0]:0.4f}, {b[1]:0.4f}, {b[2]:0.4f}, {b[3]:0.4f}\")"
   ]
  },
  {
   "cell_type": "markdown",
   "id": "f1d9e884",
   "metadata": {},
   "source": [
    "Again, It looks like the first state is still a vowel state as looking at all the letters with \"large\" nonzero numbers in the first column are vowels. \n",
    "The second column seems to still closeley represent consonants. \n",
    "The final column seems to represent more closely the most common letters in the alphabet. \n",
    "A quick search will tell you that $E, A, R, I , O, T, N, S$ are among the most common which are all largely represented in the final column. \n",
    "The third column looks like supporting letters. "
   ]
  },
  {
   "cell_type": "markdown",
   "id": "24360ee4",
   "metadata": {},
   "source": [
    "## Exercise 12.18"
   ]
  },
  {
   "cell_type": "code",
   "execution_count": 8,
   "id": "884c33e3",
   "metadata": {},
   "outputs": [
    {
     "name": "stdout",
     "output_type": "stream",
     "text": [
      "  : 0.2146, 0.0877\n",
      "а : 0.0000, 0.1760\n",
      "б : 0.0250, 0.0000\n",
      "в : 0.0655, 0.0000\n",
      "г : 0.0296, 0.0000\n",
      "д : 0.0385, 0.0000\n",
      "е : 0.0180, 0.1427\n",
      "ж : 0.0140, 0.0000\n",
      "з : 0.0252, 0.0000\n",
      "и : 0.0016, 0.1315\n",
      "й : 0.0149, 0.0000\n",
      "к : 0.0497, 0.0010\n",
      "л : 0.0719, 0.0000\n",
      "м : 0.0381, 0.0000\n",
      "н : 0.0973, 0.0000\n",
      "о : 0.0000, 0.2407\n",
      "п : 0.0346, 0.0062\n",
      "р : 0.0597, 0.0000\n",
      "с : 0.0513, 0.0280\n",
      "т : 0.0780, 0.0000\n",
      "у : 0.0000, 0.0590\n",
      "ф : 0.0018, 0.0003\n",
      "х : 0.0111, 0.0000\n",
      "ц : 0.0049, 0.0000\n",
      "ч : 0.0167, 0.0038\n",
      "ш : 0.0109, 0.0000\n",
      "щ : 0.0047, 0.0000\n",
      "ъ : 0.0003, 0.0003\n",
      "ы : 0.0000, 0.0376\n",
      "ь : 0.0009, 0.0433\n",
      "э : 0.0000, 0.0066\n",
      "ю : 0.0079, 0.0024\n",
      "я : 0.0128, 0.0328\n",
      "ё : 0.0000, 0.0001\n"
     ]
    }
   ],
   "source": [
    "symbols, obs = prep_data('WarAndPeace.txt')\n",
    "dec = hmm.MultinomialHMM(n_components=2, n_iter=200, tol=0.0001)\n",
    "dec.fit(obs.reshape(-1, 1))\n",
    "B = dec.emissionprob_.T\n",
    "for i,b in enumerate(B):\n",
    "    print(f\"{symbols[i]} : {b[0]:0.4f}, {b[1]:0.4f}\")"
   ]
  },
  {
   "cell_type": "markdown",
   "id": "29b594cb",
   "metadata": {},
   "source": [
    "it looks like the Cyrillic characters $a, e,и, o$ are vowels and the rest are consonants.  "
   ]
  },
  {
   "cell_type": "code",
   "execution_count": 9,
   "id": "1c4cfe55",
   "metadata": {},
   "outputs": [
    {
     "name": "stdout",
     "output_type": "stream",
     "text": [
      "  : 0.4197, 0.0426, 0.0979\n",
      "а : 0.0000, 0.1967, 0.0000\n",
      "б : 0.0103, 0.0000, 0.0327\n",
      "в : 0.0466, 0.0000, 0.0716\n",
      "г : 0.0142, 0.0000, 0.0372\n",
      "д : 0.0216, 0.0010, 0.0453\n",
      "е : 0.0486, 0.1535, 0.0000\n",
      "ж : 0.0050, 0.0000, 0.0188\n",
      "з : 0.0186, 0.0000, 0.0272\n",
      "и : 0.0095, 0.1427, 0.0000\n",
      "й : 0.0337, 0.0000, 0.0000\n",
      "к : 0.0316, 0.0000, 0.0581\n",
      "л : 0.0322, 0.0000, 0.0920\n",
      "м : 0.0249, 0.0000, 0.0433\n",
      "н : 0.0349, 0.0000, 0.1307\n",
      "о : 0.0026, 0.2672, 0.0000\n",
      "п : 0.0218, 0.0000, 0.0464\n",
      "р : 0.0124, 0.0000, 0.0865\n",
      "с : 0.0960, 0.0002, 0.0434\n",
      "т : 0.0286, 0.0000, 0.1042\n",
      "у : 0.0018, 0.0646, 0.0000\n",
      "ф : 0.0016, 0.0000, 0.0021\n",
      "х : 0.0077, 0.0000, 0.0122\n",
      "ц : 0.0004, 0.0000, 0.0076\n",
      "ч : 0.0149, 0.0000, 0.0202\n",
      "ш : 0.0038, 0.0000, 0.0147\n",
      "щ : 0.0000, 0.0000, 0.0076\n",
      "ъ : 0.0000, 0.0006, 0.0002\n",
      "ы : 0.0000, 0.0420, 0.0000\n",
      "ь : 0.0000, 0.0500, 0.0000\n",
      "э : 0.0098, 0.0000, 0.0000\n",
      "ю : 0.0175, 0.0029, 0.0000\n",
      "я : 0.0299, 0.0359, 0.0000\n",
      "ё : 0.0000, 0.0001, 0.0000\n"
     ]
    }
   ],
   "source": [
    "dec = hmm.MultinomialHMM(n_components=3, n_iter=200, tol=0.0001)\n",
    "dec.fit(obs.reshape(-1, 1))\n",
    "B = dec.emissionprob_.T\n",
    "for i,b in enumerate(B):\n",
    "    print(f\"{symbols[i]} : {b[0]:0.4f}, {b[1]:0.4f}, {b[2]:0.4f}\")"
   ]
  },
  {
   "cell_type": "markdown",
   "id": "5a076339",
   "metadata": {},
   "source": [
    "Again, it looks like the Cyrillic characters $a, e,и, o$ are vowels and the rest are consonants.  \n",
    "Now the last column probably shows the most common characters and the first the least common. "
   ]
  }
 ],
 "metadata": {
  "kernelspec": {
   "display_name": "Python 3.8.11 64-bit ('base': conda)",
   "language": "python",
   "name": "python3811jvsc74a57bd0a3787f4cb79ecec69b787db7199d8bde05c4992db9bd29a2a965f7beb5defefb"
  },
  "language_info": {
   "codemirror_mode": {
    "name": "ipython",
    "version": 3
   },
   "file_extension": ".py",
   "mimetype": "text/x-python",
   "name": "python",
   "nbconvert_exporter": "python",
   "pygments_lexer": "ipython3",
   "version": "3.8.12"
  }
 },
 "nbformat": 4,
 "nbformat_minor": 5
}
