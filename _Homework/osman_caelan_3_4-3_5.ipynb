{
 "cells": [
  {
   "cell_type": "code",
   "execution_count": 1,
   "id": "8aa4b88b",
   "metadata": {},
   "outputs": [],
   "source": [
    "import numpy as np\n",
    "from scipy.integrate import quad"
   ]
  },
  {
   "cell_type": "code",
   "execution_count": 2,
   "id": "826bd88c",
   "metadata": {},
   "outputs": [
    {
     "name": "stdout",
     "output_type": "stream",
     "text": [
      "True\n"
     ]
    }
   ],
   "source": [
    "def compute_cdf(x0, xf):\n",
    "    pdf = lambda x: np.exp(-x**2/2)/np.sqrt(2*np.pi)\n",
    "    return quad(pdf, x0, xf)\n",
    "\n",
    "cdf = 1 - compute_cdf(-3, 3)[0]\n",
    "chernoff = np.exp(-9/2)\n",
    "\n",
    "print(cdf < chernoff)"
   ]
  }
 ],
 "metadata": {
  "kernelspec": {
   "display_name": "Python 3 (ipykernel)",
   "language": "python",
   "name": "python3"
  },
  "language_info": {
   "codemirror_mode": {
    "name": "ipython",
    "version": 3
   },
   "file_extension": ".py",
   "mimetype": "text/x-python",
   "name": "python",
   "nbconvert_exporter": "python",
   "pygments_lexer": "ipython3",
   "version": "3.8.8"
  }
 },
 "nbformat": 4,
 "nbformat_minor": 5
}
