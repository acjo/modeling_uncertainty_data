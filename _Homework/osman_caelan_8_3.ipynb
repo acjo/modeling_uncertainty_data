{
 "cells": [
  {
   "cell_type": "code",
   "execution_count": 1,
   "id": "f0de7bdc",
   "metadata": {},
   "outputs": [],
   "source": [
    "from scipy.stats import norm\n",
    "import numpy as np"
   ]
  },
  {
   "cell_type": "code",
   "execution_count": 2,
   "id": "6b55aca1",
   "metadata": {},
   "outputs": [
    {
     "data": {
      "text/plain": [
       "0.5010416651596283"
      ]
     },
     "execution_count": 2,
     "metadata": {},
     "output_type": "execute_result"
    }
   ],
   "source": [
    "fD0 = norm.pdf(0.001, 0, np.sqrt(2*0.03**2/5))\n",
    "fD1 = norm.pdf(0.001, 0.003, np.sqrt(2*0.03**2/5))\n",
    "fD0/(fD0 + fD1)"
   ]
  }
 ],
 "metadata": {
  "kernelspec": {
   "display_name": "Python 3 (ipykernel)",
   "language": "python",
   "name": "python3"
  },
  "language_info": {
   "codemirror_mode": {
    "name": "ipython",
    "version": 3
   },
   "file_extension": ".py",
   "mimetype": "text/x-python",
   "name": "python",
   "nbconvert_exporter": "python",
   "pygments_lexer": "ipython3",
   "version": "3.8.8"
  }
 },
 "nbformat": 4,
 "nbformat_minor": 5
}
