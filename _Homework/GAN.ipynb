{
 "cells": [
  {
   "cell_type": "markdown",
   "metadata": {
    "id": "b4X34PE0em_N"
   },
   "source": [
    "# Deep Learning Architectures: GANs\n",
    "# Caelan Osman\n",
    "# April 11, 2022"
   ]
  },
  {
   "cell_type": "code",
   "execution_count": 1,
   "metadata": {
    "id": "_HaCF0y2YpwU"
   },
   "outputs": [],
   "source": [
    "from google.colab import files\n",
    "import glob\n",
    "import os\n",
    "import gzip\n",
    "import tarfile    \n",
    "import time\n",
    "import torch\n",
    "from torchvision import datasets                  \n",
    "import torch.nn as nn\n",
    "import torch.optim as optim\n",
    "from torch.utils.data import DataLoader\n",
    "from torchvision import datasets\n",
    "from torchvision.transforms import transforms\n",
    "import numpy as np\n",
    "import matplotlib.pyplot as plt\n",
    "\n",
    "from torch.utils.data import DataLoader, random_split\n",
    "from tqdm import tqdm\n",
    "\n",
    "device = torch.device(\"cuda:0\" if torch.cuda.is_available() else \"cpu\")"
   ]
  },
  {
   "cell_type": "markdown",
   "metadata": {
    "id": "j4hAZPNsh5e7"
   },
   "source": [
    "We will be building a GAN that can come up with realistic images. We will be using the MNIST dataset. "
   ]
  },
  {
   "cell_type": "code",
   "execution_count": 2,
   "metadata": {
    "id": "YnWPhWw2k6Ev"
   },
   "outputs": [],
   "source": [
    "def download_data(shuffle=True):\n",
    "    mnist_trainset = datasets.MNIST(root='./data', train=True, download=True, transform=transforms.ToTensor()) \n",
    "    mnist_testset = datasets.MNIST(root='./data', train=False, download=True, transform=transforms.ToTensor()) \n",
    "\n",
    "\n",
    "    train_loader = DataLoader(mnist_trainset, batch_size=32, shuffle=shuffle)\n",
    "    test_loader = DataLoader(mnist_testset, batch_size=1, shuffle=shuffle)\n",
    "\n",
    "\n",
    "    return train_loader, test_loader \n",
    "\n",
    "train_loader, test_loader = download_data(shuffle=True)"
   ]
  },
  {
   "cell_type": "code",
   "execution_count": 3,
   "metadata": {
    "id": "_N6ZK3k8fdq-"
   },
   "outputs": [],
   "source": [
    "class Discriminator(nn.Module):\n",
    "    \"\"\"\n",
    "    Discriminator in GAN\n",
    "    \"\"\"\n",
    "    def __init__(self):\n",
    "        super(Discriminator, self).__init__()\n",
    "        self.fc1 = nn.Linear(784, 512)\n",
    "        self.fc2 = nn.Linear(512, 1)\n",
    "        self.activation = nn.LeakyReLU(0.1)\n",
    "\n",
    "    def forward(self, x):\n",
    "        x = x.view(-1, 784)\n",
    "        x = self.activation(self.fc1(x))\n",
    "        x = self.fc2(x)\n",
    "        return nn.Sigmoid()(x)\n",
    "\n",
    "\n",
    "class Generator(nn.Module):\n",
    "    \"\"\"\n",
    "    Generator in GAN\n",
    "    \"\"\"\n",
    "    def __init__(self):\n",
    "        super(Generator, self).__init__()\n",
    "        self.fc1 = nn.Linear(128, 1024)\n",
    "        self.fc2 = nn.Linear(1024, 2048)\n",
    "        self.fc3 = nn.Linear(2048, 784)\n",
    "        self.activation = nn.ReLU()\n",
    "\n",
    "    def forward(self, x):\n",
    "        x = self.activation(self.fc1(x))\n",
    "        x = self.activation(self.fc2(x))\n",
    "        x = self.fc3(x)\n",
    "        x = x.view(-1, 1, 28, 28)\n",
    "        return nn.Tanh()(x)"
   ]
  },
  {
   "cell_type": "markdown",
   "metadata": {
    "id": "r7tztJ7vjM8C"
   },
   "source": [
    "Training:"
   ]
  },
  {
   "cell_type": "code",
   "execution_count": 5,
   "metadata": {
    "colab": {
     "base_uri": "https://localhost:8080/"
    },
    "id": "in-xs65LjNee",
    "outputId": "3583a9e2-934e-4397-b7f5-e60f5bb8ca87"
   },
   "outputs": [
    {
     "name": "stderr",
     "output_type": "stream",
     "text": [
      "G loss: 13.8693, D loss: 0.0001: 100%|██████████| 1875/1875 [00:26<00:00, 71.20it/s]\n",
      "G loss: 82.3820, D loss: 0.0000: 100%|██████████| 1875/1875 [00:25<00:00, 74.69it/s]\n",
      "G loss: 82.6624, D loss: 0.0000: 100%|██████████| 1875/1875 [00:25<00:00, 73.73it/s]\n",
      "G loss: 79.9350, D loss: 0.0000: 100%|██████████| 1875/1875 [00:22<00:00, 81.82it/s]\n",
      "G loss: 72.5375, D loss: 0.0000: 100%|██████████| 1875/1875 [00:22<00:00, 82.99it/s]\n",
      "G loss: 66.9066, D loss: 0.0000: 100%|██████████| 1875/1875 [00:22<00:00, 83.52it/s]\n",
      "G loss: 59.2029, D loss: 0.0000: 100%|██████████| 1875/1875 [00:25<00:00, 74.95it/s]\n",
      "G loss: 53.6841, D loss: 0.0000: 100%|██████████| 1875/1875 [00:22<00:00, 82.98it/s]\n",
      "G loss: 49.4797, D loss: 0.0000: 100%|█████████▉| 1874/1875 [00:25<00:00, 80.73it/s]"
     ]
    },
    {
     "name": "stdout",
     "output_type": "stream",
     "text": [
      "Model saved.\n"
     ]
    },
    {
     "name": "stderr",
     "output_type": "stream",
     "text": [
      "G loss: 49.4797, D loss: 0.0000: 100%|██████████| 1875/1875 [00:25<00:00, 73.20it/s]\n",
      "G loss: 100.0000, D loss: 0.0000: 100%|██████████| 1875/1875 [00:22<00:00, 82.30it/s]\n",
      "G loss: 100.0000, D loss: 0.0000: 100%|██████████| 1875/1875 [00:22<00:00, 83.02it/s]\n",
      "G loss: 100.0000, D loss: 0.0000: 100%|██████████| 1875/1875 [00:22<00:00, 83.21it/s]\n",
      "G loss: 100.0000, D loss: 0.0000: 100%|██████████| 1875/1875 [00:22<00:00, 83.50it/s]\n",
      "G loss: 100.0000, D loss: 0.0000: 100%|██████████| 1875/1875 [00:22<00:00, 83.09it/s]\n",
      "G loss: 100.0000, D loss: 0.0000: 100%|██████████| 1875/1875 [00:22<00:00, 82.53it/s]\n",
      "G loss: 100.0000, D loss: 0.0000: 100%|██████████| 1875/1875 [00:22<00:00, 81.99it/s]\n",
      "G loss: 100.0000, D loss: 0.0000: 100%|██████████| 1875/1875 [00:22<00:00, 82.60it/s]\n",
      "G loss: 100.0000, D loss: 0.0000: 100%|██████████| 1875/1875 [00:22<00:00, 83.11it/s]\n",
      "G loss: 100.0000, D loss: 0.0000: 100%|█████████▉| 1874/1875 [00:22<00:00, 82.74it/s]"
     ]
    },
    {
     "name": "stdout",
     "output_type": "stream",
     "text": [
      "Model saved.\n"
     ]
    },
    {
     "name": "stderr",
     "output_type": "stream",
     "text": [
      "G loss: 100.0000, D loss: 0.0000: 100%|██████████| 1875/1875 [00:22<00:00, 81.60it/s]\n",
      "G loss: 100.0000, D loss: 0.0000: 100%|██████████| 1875/1875 [00:22<00:00, 83.16it/s]\n",
      "G loss: 100.0000, D loss: 0.0000: 100%|██████████| 1875/1875 [00:22<00:00, 83.12it/s]\n",
      "G loss: 100.0000, D loss: 0.0000: 100%|██████████| 1875/1875 [00:22<00:00, 83.39it/s]\n",
      "G loss: 100.0000, D loss: 0.0000: 100%|██████████| 1875/1875 [00:22<00:00, 82.93it/s]\n",
      "G loss: 100.0000, D loss: 0.0000: 100%|██████████| 1875/1875 [00:22<00:00, 82.91it/s]\n",
      "G loss: 100.0000, D loss: 0.0000: 100%|██████████| 1875/1875 [00:22<00:00, 83.54it/s]\n",
      "G loss: 100.0000, D loss: 0.0000: 100%|██████████| 1875/1875 [00:22<00:00, 83.42it/s]\n",
      "G loss: 100.0000, D loss: 0.0000: 100%|██████████| 1875/1875 [00:22<00:00, 83.77it/s]\n",
      "G loss: 100.0000, D loss: 0.0000: 100%|██████████| 1875/1875 [00:22<00:00, 83.27it/s]\n",
      "G loss: 100.0000, D loss: 0.0000: 100%|█████████▉| 1874/1875 [00:22<00:00, 81.34it/s]"
     ]
    },
    {
     "name": "stdout",
     "output_type": "stream",
     "text": [
      "Model saved.\n"
     ]
    }
   ],
   "source": [
    "# instantiat discrimanator and Generator NN\n",
    "D = Discriminator()\n",
    "D.to(device)\n",
    "G = Generator()\n",
    "G.to(device)\n",
    "# instantiate the optimizers \n",
    "D_optimizer = torch.optim.Adam(D.parameters(), lr=0.001)\n",
    "G_optimizer = torch.optim.Adam(G.parameters(), lr=0.001)\n",
    "\n",
    "# loss function, we will be using the binary classification, \n",
    "# cross entropy loss function\n",
    "loss = nn.BCELoss()\n",
    "epochs = 30\n",
    "mean_loss_D = []\n",
    "mean_loss_G = []\n",
    "for epoch in range(epochs):\n",
    "    loop = tqdm(total=len(train_loader), position=0)\n",
    "    epoch_loss_D = []\n",
    "    epoch_loss_G = []\n",
    "    for idx, (imgs, _) in enumerate(train_loader):\n",
    "\n",
    "        # Training the discriminator\n",
    "        # Real inputs are actual images of the MNIST dataset\n",
    "        # Fake inputs are from the generator\n",
    "        # Real inputs should be classified as 1 and fake as 0\n",
    "        real_inputs = imgs.to(device)\n",
    "        real_outputs = D(real_inputs)\n",
    "        real_label = torch.ones(real_inputs.shape[0], 1).to(device)\n",
    "\n",
    "        noise = (torch.rand(real_inputs.shape[0], 128) - 0.5) / 0.5\n",
    "        noise = noise.to(device)\n",
    "        fake_inputs = G(noise)\n",
    "        fake_outputs = D(fake_inputs)\n",
    "        fake_label = torch.zeros(fake_inputs.shape[0], 1).to(device)\n",
    "\n",
    "        outputs = torch.cat((real_outputs, fake_outputs), 0)\n",
    "        targets = torch.cat((real_label, fake_label), 0)\n",
    "\n",
    "        D_loss = loss(outputs, targets)\n",
    "        D_optimizer.zero_grad()\n",
    "        D_loss.backward()\n",
    "        D_optimizer.step()\n",
    "        epoch_loss_D.append(D_loss.item())\n",
    "\n",
    "        # Training the generator\n",
    "        # For generator, goal is to make the discriminator believe everything is 1\n",
    "        noise = (torch.rand(real_inputs.shape[0], 128)-0.5)/0.5\n",
    "        noise = noise.to(device)\n",
    "\n",
    "        fake_inputs = G(noise)\n",
    "        fake_outputs = D(fake_inputs)\n",
    "        fake_targets = torch.ones([fake_inputs.shape[0], 1]).to(device)\n",
    "        G_loss = loss(fake_outputs, fake_targets)\n",
    "        G_optimizer.zero_grad()\n",
    "        G_loss.backward()\n",
    "        G_optimizer.step()\n",
    "        epoch_loss_G.append(G_loss.item())\n",
    "\n",
    "\n",
    "        loop.set_description(\"G loss: {:.4f}, D loss: {:.4f}\".format(G_loss, D_loss))\n",
    "        loop.update()\n",
    "\n",
    "    mean_loss_D.append(np.mean(epoch_loss_D))\n",
    "    mean_loss_G.append(np.mean(epoch_loss_G))\n",
    "\n",
    "    if (epoch+1) % 10 == 0:\n",
    "        torch.save(G, 'Generator_epoch_{}.pth'.format(epoch))\n",
    "        print('Model saved.')"
   ]
  },
  {
   "cell_type": "code",
   "execution_count": 6,
   "metadata": {
    "colab": {
     "base_uri": "https://localhost:8080/",
     "height": 594
    },
    "id": "55RXKUoztO5q",
    "outputId": "5147d292-707c-42c7-e041-14a4438a4559"
   },
   "outputs": [
    {
     "data": {
      "image/png": "[encoded data removed]",
      "text/plain": [
       "<Figure size 900x600 with 1 Axes>"
      ]
     },
     "metadata": {
      "needs_background": "light"
     },
     "output_type": "display_data"
    }
   ],
   "source": [
    "fig = plt.figure()\n",
    "fig.set_dpi(150)\n",
    "ax = fig.add_subplot(111)\n",
    "ax.plot(np.arange(1, 31), mean_loss_D, 'b-', label='Average loss per epoch for discriminator')\n",
    "ax.plot(np.arange(1, 31), mean_loss_G, 'r-', label='Average loss per epoch for generator')\n",
    "ax.set_xlabel('epoch')\n",
    "ax.set_ylabel('loss')\n",
    "ax.legend(loc='best')\n",
    "ax.set_title(\"Loss Function Evaluation\")\n",
    "plt.show()"
   ]
  },
  {
   "cell_type": "markdown",
   "metadata": {
    "id": "4Uw1e0kowJTs"
   },
   "source": [
    "We can now generate random images"
   ]
  },
  {
   "cell_type": "code",
   "execution_count": 15,
   "metadata": {
    "colab": {
     "base_uri": "https://localhost:8080/",
     "height": 1000
    },
    "id": "B7WICzKCwEGL",
    "outputId": "ec796c1c-e4e9-42b6-c99f-bc8b7a711154"
   },
   "outputs": [
    {
     "data": {
      "image/png": "[encoded data removed]",
      "text/plain": [
       "<Figure size 600x400 with 1 Axes>"
      ]
     },
     "metadata": {
      "needs_background": "light"
     },
     "output_type": "display_data"
    },
    {
     "data": {
      "image/png": "[encoded data removed]",
      "text/plain": [
       "<Figure size 600x400 with 1 Axes>"
      ]
     },
     "metadata": {
      "needs_background": "light"
     },
     "output_type": "display_data"
    },
    {
     "data": {
      "image/png": "[encoded data removed]",
      "text/plain": [
       "<Figure size 600x400 with 1 Axes>"
      ]
     },
     "metadata": {
      "needs_background": "light"
     },
     "output_type": "display_data"
    },
    {
     "data": {
      "image/png": "[encoded data removed]",
      "text/plain": [
       "<Figure size 600x400 with 1 Axes>"
      ]
     },
     "metadata": {
      "needs_background": "light"
     },
     "output_type": "display_data"
    },
    {
     "data": {
      "image/png": "[encoded data removed]",
      "text/plain": [
       "<Figure size 600x400 with 1 Axes>"
      ]
     },
     "metadata": {
      "needs_background": "light"
     },
     "output_type": "display_data"
    },
    {
     "data": {
      "image/png": "[encoded data removed]",
      "text/plain": [
       "<Figure size 600x400 with 1 Axes>"
      ]
     },
     "metadata": {
      "needs_background": "light"
     },
     "output_type": "display_data"
    },
    {
     "data": {
      "image/png": "[encoded data removed]",
      "text/plain": [
       "<Figure size 600x400 with 1 Axes>"
      ]
     },
     "metadata": {
      "needs_background": "light"
     },
     "output_type": "display_data"
    },
    {
     "data": {
      "image/png": "[encoded data removed]",
      "text/plain": [
       "<Figure size 600x400 with 1 Axes>"
      ]
     },
     "metadata": {
      "needs_background": "light"
     },
     "output_type": "display_data"
    },
    {
     "data": {
      "image/png": "[encoded data removed]",
      "text/plain": [
       "<Figure size 600x400 with 1 Axes>"
      ]
     },
     "metadata": {
      "needs_background": "light"
     },
     "output_type": "display_data"
    },
    {
     "data": {
      "image/png": "[encoded data removed]",
      "text/plain": [
       "<Figure size 600x400 with 1 Axes>"
      ]
     },
     "metadata": {
      "needs_background": "light"
     },
     "output_type": "display_data"
    },
    {
     "name": "stdout",
     "output_type": "stream",
     "text": [
      "Accuracy on Real Images (we want this to be close to 1): 0.9997\n",
      "Accuracy on Fake Images (we want this to be close to 1): 0.00029999999999996696\n"
     ]
    }
   ],
   "source": [
    "G.eval()\n",
    "D.eval()\n",
    "\n",
    "D_accuracy_real =  0\n",
    "\n",
    "for idx, (imgs, _) in enumerate(test_loader):\n",
    "    # real input\n",
    "    real_inputs = imgs.to(device)\n",
    "    # real output (what the deiscriminator labels it as)\n",
    "    real_outputs = D(real_inputs)\n",
    "    # real labels\n",
    "    real_label = torch.ones(real_inputs.shape[0], 1).to(device)\n",
    "\n",
    "    D_accuracy_real += (real_label == real_outputs).sum().item()\n",
    "\n",
    "\n",
    "    noise = (torch.rand(real_inputs.shape[0], 128) - 0.5) / 0.5\n",
    "    noise = noise.to(device)\n",
    "\n",
    "    # plot some generated iages\n",
    "    if idx < 10:\n",
    "        fig = plt.figure()\n",
    "        fig.set_dpi(100)\n",
    "        plt.imshow(real_inputs.squeeze().detach().cpu().numpy(), cmap='gray')\n",
    "        plt.axis('off')\n",
    "        plt.show()\n",
    "\n",
    "\n",
    "    fake_inputs = G(noise)\n",
    "    fake_outputs = D(fake_inputs)\n",
    "    fake_label = torch.zeros(fake_inputs.shape[0], 1).to(device)\n",
    "\n",
    "    outputs = torch.cat((real_outputs, fake_outputs), 0)\n",
    "    targets = torch.cat((real_label, fake_label), 0)\n",
    "\n",
    "D_accuracy_real /= 10000\n",
    "\n",
    "\n",
    "\n",
    "print('Accuracy on Real Images (we want this to be close to 1): {}'.format(D_accuracy_real))\n",
    "print('Accuracy on Fake Images (we want this to be close to 1): {}'.format(1-D_accuracy_real))"
   ]
  }
 ],
 "metadata": {
  "accelerator": "GPU",
  "colab": {
   "collapsed_sections": [],
   "name": "GAN.ipynb",
   "provenance": []
  },
  "kernelspec": {
   "display_name": "Python 3 (ipykernel)",
   "language": "python",
   "name": "python3"
  },
  "language_info": {
   "codemirror_mode": {
    "name": "ipython",
    "version": 3
   },
   "file_extension": ".py",
   "mimetype": "text/x-python",
   "name": "python",
   "nbconvert_exporter": "python",
   "pygments_lexer": "ipython3",
   "version": "3.8.8"
  }
 },
 "nbformat": 4,
 "nbformat_minor": 1
}
