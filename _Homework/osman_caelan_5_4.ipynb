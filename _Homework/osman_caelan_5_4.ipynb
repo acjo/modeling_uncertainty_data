{
 "cells": [
  {
   "cell_type": "markdown",
   "metadata": {},
   "source": [
    "# Exercise 5.17\n",
    "Let $c\\in\\mathbb{R}$ be any constant and consider the softmax function. \n",
    "Assume that $(t_1, \\ldots, t_k)\\in\\mathbb{R}^k$ then \n",
    "\\begin{align*}\n",
    "    \\mathscr{S}(c+t_1, \\ldots, c+t_k) &= \\left(\\frac{e^{c +t_1}}{\\sum_{j=1}^k e^{c + t_j}}, \\ldots, \\frac{e^{c +t_1}}{\\sum_{j=1}^k e^{c + t_j}}\\right) =  \\left(\\frac{e^{c}e^{t_1}}{\\sum_{j=1}^k e^c  e^{t_j}}, \\ldots, \\frac{e^c e^{t_k}}{\\sum_{j=1}^k e^{c}e^{t_j}}\\right)\\\\\n",
    "    &=\\left(\\frac{e^{t_1}}{\\sum_{j=1}^k  e^{t_j}}, \\ldots, \\frac{ e^{t_k}}{\\sum_{j=1}^k e^{t_j}}\\right) = \\mathscr{S}(t_1, \\ldots, t_k).\n",
    "\\end{align*}\n",
    "If $t_i = X^T \\boldsymbol{\\beta}_i$ and $c = X^T \\boldsymbol{\\beta}_k$ then by the work up above we know that $\\mathscr{S}(t_1 - C, \\ldots, t_k - c) = \\mathscr{S}(t_1, \\ldots, t_k)$ as desired. "
   ]
  },
  {
   "cell_type": "markdown",
   "metadata": {},
   "source": [
    "# Exercise 5.18\n",
    "By exercise 5.17 we can assume that $\\boldsymbol{\\beta}_2 = \\boldsymbol{0}$ which gives \n",
    "\\begin{align*}\n",
    "    &-\\sum_{i=1}^n \\sum_{m=1}^2 \\mathbb{1}_j(y_i) \\log\\left(\\frac{\\exp(\\boldsymbol{x}_i^T\\boldsymbol{\\beta}_j)}{\\sum_{m=1}^2 \\exp(\\boldsymbol{x}_i^T \\boldsymbol{\\beta}_m)}\\right) \\\\\n",
    "    &=-\\sum_{i=1}^n\\left[\\mathbb{1}_1(y_i) \\log\\left(\\frac{\\exp(\\boldsymbol{x}_i^T \\boldsymbol{\\beta}_1)}{\\exp(\\boldsymbol{x}_i^T \\boldsymbol{\\beta}_1) + \\exp(\\boldsymbol{x}_i^T \\boldsymbol{\\beta}_2)}\\right) +\\mathbb{1}_2(y_i) \\log\\left(\\frac{\\exp(\\boldsymbol{x}_i^T \\boldsymbol{\\beta}_2)}{\\exp(\\boldsymbol{x}_i^T \\boldsymbol{\\beta}_1) + \\exp(\\boldsymbol{x}_i^T \\boldsymbol{\\beta}_2)}\\right)\\right]\n",
    "\\end{align*}\n",
    "Notice that the second $\\log$ in the sum will give $0$ since $\\boldsymbol{\\beta}_2 =\\boldsymbol{0}$. \n",
    "\\begin{align*}\n",
    "    &=-\\sum_{i=1}^n\\left[\\mathbb{1}_1(y_i) \\log\\left(\\frac{\\exp(\\boldsymbol{x}_i^T \\boldsymbol{\\beta}_1)}{\\exp(\\boldsymbol{x}_i^T \\boldsymbol{\\beta}_1) + \\exp(\\boldsymbol{x}_i^T \\boldsymbol{\\beta}_2)}\\right) \\right]\\\\ \n",
    "    &=-\\sum_{i=1}^n\\mathbb{1}_1(y_i) \\left[\\log(\\exp(\\boldsymbol{x}_i^T \\boldsymbol{\\beta}_1)) + \\log(\\exp(\\boldsymbol{x}_i^T \\boldsymbol{\\beta}_1) + \\exp(\\boldsymbol{x}_i^T \\boldsymbol{\\beta}_2)) \\right]\\\\\n",
    "    &= -\\sum_{i=1}^n\\mathbb{1}_1(y_i) \\left[\\log(\\exp(\\boldsymbol{x}_i^T \\boldsymbol{\\beta}_1)) + \\log(\\exp(\\boldsymbol{x}_i^T \\boldsymbol{\\beta}_1) + 1) \\right]\\\\\n",
    "    &= \\sum_{i=1}^n \\left[y_i\\log(1 +\\exp(-\\boldsymbol{x}_i^T \\boldsymbol{\\beta}_1)) + (1 -y_i)\\log(\\exp(\\boldsymbol{x}_i^T \\boldsymbol{\\beta}_1) + 1 \\right]\n",
    "\\end{align*}\n",
    "as desired. "
   ]
  },
  {
   "cell_type": "code",
   "execution_count": null,
   "metadata": {
    "id": "tIztGL2AkRj7"
   },
   "outputs": [],
   "source": [
    "import numpy as np\n",
    "from sklearn import datasets\n",
    "from sklearn.linear_model import LogisticRegression\n",
    "from sklearn.model_selection import train_test_split\n",
    "from keras.datasets import fashion_mnist\n",
    "from keras.utils import np_utils\n",
    "from keras.models import Sequential\n",
    "from keras.layers import Dense\n",
    "from keras.regularizers import l1_l2\n",
    "from matplotlib import pyplot as plt\n",
    "import pandas as pd\n",
    "import warnings\n",
    "warnings.filterwarnings('ignore')"
   ]
  },
  {
   "cell_type": "markdown",
   "metadata": {
    "id": "EoKpHrSHkpD_"
   },
   "source": [
    "# Exercise 5.19"
   ]
  },
  {
   "cell_type": "code",
   "execution_count": null,
   "metadata": {
    "colab": {
     "base_uri": "https://localhost:8080/"
    },
    "id": "d14BJ7RBkoWf",
    "outputId": "9246627c-8b36-4968-db8b-f05cb7542fbf"
   },
   "outputs": [
    {
     "name": "stdout",
     "output_type": "stream",
     "text": [
      "Softmax:\n",
      "Best C Value 0.01\n",
      "Best Score: 0.9570747217806042\n"
     ]
    }
   ],
   "source": [
    "def prob5_19():\n",
    "    #load dataset\n",
    "    digits = datasets.load_digits()\n",
    "    images = digits.images\n",
    "    labels = digits.target \n",
    "    #get the train and test split\n",
    "    X_train, X_test, y_train, y_test = train_test_split(images, labels, train_size=0.3)\n",
    "\n",
    "    X_train_flat = [dig.flatten() for dig in X_train]\n",
    "    X_test_flat = [dig.flatten() for dig in X_test]\n",
    "\n",
    "    c_vals = np.linspace(0.01, 1, 50) \n",
    "    max_score = 0\n",
    "    best_cval = 0\n",
    "    for c in c_vals:\n",
    "        LRC = LogisticRegression(penalty = 'l2',solver = 'newton-cg', C = c, multi_class='multinomial')\n",
    "        LRC.fit(X_train_flat, y_train)\n",
    "        curr_score = LRC.score(X_test_flat, y_test)\n",
    "        if curr_score > max_score:\n",
    "            max_score = curr_score\n",
    "            best_cval = c\n",
    "\n",
    "\n",
    "    return best_cval, max_score\n",
    "\n",
    "best_cval, max_score = prob5_19()\n",
    "print('Softmax:')\n",
    "print('Best C Value', best_cval)\n",
    "print('Best Score:', max_score)"
   ]
  },
  {
   "cell_type": "markdown",
   "metadata": {
    "id": "ICDH3hkOrWJr"
   },
   "source": [
    "# Exercise 5.20"
   ]
  },
  {
   "cell_type": "code",
   "execution_count": null,
   "metadata": {
    "colab": {
     "base_uri": "https://localhost:8080/"
    },
    "id": "xWJ7EbN9lVWu",
    "outputId": "8aa615b3-7487-4a94-a4f8-462e504dfdf7"
   },
   "outputs": [
    {
     "name": "stdout",
     "output_type": "stream",
     "text": [
      "One-Versus-Rest\n",
      "Best C Value 0.09081632653061224\n",
      "Best Score: 0.9554848966613673\n"
     ]
    }
   ],
   "source": [
    "def prob5_20():\n",
    "    #load dataset\n",
    "    digits = datasets.load_digits()\n",
    "    images = digits.images\n",
    "    labels = digits.target \n",
    "    #get the train and test split\n",
    "    X_train, X_test, y_train, y_test = train_test_split(images, labels, train_size=0.3)\n",
    "\n",
    "    X_train_flat = [dig.flatten() for dig in X_train]\n",
    "    X_test_flat = [dig.flatten() for dig in X_test]\n",
    "\n",
    "    c_vals = np.linspace(0.01, 1, 50) \n",
    "    max_score = 0\n",
    "    best_cval = 0\n",
    "    for c in c_vals:\n",
    "        LRC = LogisticRegression(penalty = 'l2',solver = 'newton-cg', C = c, multi_class='ovr')\n",
    "        LRC.fit(X_train_flat, y_train)\n",
    "        curr_score = LRC.score(X_test_flat, y_test)\n",
    "        if curr_score > max_score:\n",
    "            max_score = curr_score\n",
    "            best_cval = c\n",
    "\n",
    "\n",
    "    return best_cval, max_score\n",
    "\n",
    "best_cval, max_score = prob5_20()\n",
    "\n",
    "print('One-Versus-Rest')\n",
    "print('Best C Value', best_cval)\n",
    "print('Best Score:', max_score)"
   ]
  },
  {
   "cell_type": "code",
   "execution_count": null,
   "metadata": {
    "colab": {
     "base_uri": "https://localhost:8080/",
     "height": 1000
    },
    "id": "WO-NZaOMrzM3",
    "outputId": "e8f55792-c70d-4d97-ac4d-a8b31e3e5956"
   },
   "outputs": [
    {
     "name": "stdout",
     "output_type": "stream",
     "text": [
      "Epoch 1/12\n",
      "353/353 [==============================] - 1s 3ms/step - loss: 1.2737 - accuracy: 0.6117 - val_loss: 0.9426 - val_accuracy: 0.6979\n",
      "Epoch 2/12\n",
      "353/353 [==============================] - 1s 2ms/step - loss: 0.8456 - accuracy: 0.7346 - val_loss: 0.7967 - val_accuracy: 0.7420\n",
      "Epoch 3/12\n",
      "353/353 [==============================] - 1s 3ms/step - loss: 0.7470 - accuracy: 0.7656 - val_loss: 0.7322 - val_accuracy: 0.7622\n",
      "Epoch 4/12\n",
      "353/353 [==============================] - 1s 2ms/step - loss: 0.6943 - accuracy: 0.7823 - val_loss: 0.6914 - val_accuracy: 0.7725\n",
      "Epoch 5/12\n",
      "353/353 [==============================] - 1s 3ms/step - loss: 0.6597 - accuracy: 0.7922 - val_loss: 0.6640 - val_accuracy: 0.7832\n",
      "Epoch 6/12\n",
      "353/353 [==============================] - 1s 2ms/step - loss: 0.6349 - accuracy: 0.7998 - val_loss: 0.6428 - val_accuracy: 0.7901\n",
      "Epoch 7/12\n",
      "353/353 [==============================] - 1s 2ms/step - loss: 0.6156 - accuracy: 0.8048 - val_loss: 0.6274 - val_accuracy: 0.7953\n",
      "Epoch 8/12\n",
      "353/353 [==============================] - 1s 2ms/step - loss: 0.6004 - accuracy: 0.8088 - val_loss: 0.6132 - val_accuracy: 0.7994\n",
      "Epoch 9/12\n",
      "353/353 [==============================] - 1s 2ms/step - loss: 0.5877 - accuracy: 0.8123 - val_loss: 0.6022 - val_accuracy: 0.8025\n",
      "Epoch 10/12\n",
      "353/353 [==============================] - 1s 3ms/step - loss: 0.5769 - accuracy: 0.8155 - val_loss: 0.5957 - val_accuracy: 0.8039\n",
      "Epoch 11/12\n",
      "353/353 [==============================] - 1s 3ms/step - loss: 0.5679 - accuracy: 0.8176 - val_loss: 0.5861 - val_accuracy: 0.8065\n",
      "Epoch 12/12\n",
      "353/353 [==============================] - 1s 2ms/step - loss: 0.5600 - accuracy: 0.8202 - val_loss: 0.5783 - val_accuracy: 0.8089\n"
     ]
    },
    {
     "data": {
      "image/png": "[encoded data removed]",
      "text/plain": [
       "<Figure size 576x576 with 16 Axes>"
      ]
     },
     "metadata": {
      "needs_background": "light"
     },
     "output_type": "display_data"
    }
   ],
   "source": [
    "def prob5_21():\n",
    "    (X_train, y_train), (X_test, y_test) =  fashion_mnist.load_data()\n",
    "    input_dim = 784 #28*28\n",
    "    X_train = X_train.reshape(60000, input_dim)\n",
    "    X_test = X_test.reshape(10000, input_dim) \n",
    "    X_train = X_train/255\n",
    "    X_test = X_test/255\n",
    "    Y_train = np_utils.to_categorical(y_train, 10)\n",
    "    Y_test = np_utils.to_categorical(y_test, 10)\n",
    "    output_dim = 10 # number of classes\n",
    "    soft = Sequential() # Set up\n",
    "    soft.add(Dense(output_dim, input_dim=input_dim,\n",
    "    activation='softmax',\n",
    "    kernel_regularizer=l1_l2(l1=1e-5, l2=1e-4)))\n",
    "    soft.compile(optimizer='sgd',\n",
    "                loss='categorical_crossentropy',\n",
    "                metrics=['accuracy']) \n",
    "    soft.fit(X_train, \n",
    "             Y_train, \n",
    "             batch_size=170,\n",
    "             epochs=12, \n",
    "             verbose = 1, \n",
    "             validation_data=(X_test, Y_test))  \n",
    "    n = 16  # number of predictions to show\n",
    "    X_new = X_test[:n]\n",
    "    probs=soft.predict(X_new) #predicted probabilities\n",
    "    class_names = ['T-shirt/top','Trouser','Pullover',\n",
    "                   'Dress','Coat','Sandal','Shirt',\n",
    "                   'Sneaker','Bag','Ankle boot']\n",
    "    # Plot\n",
    "    cols = 4\n",
    "    rows = (len(X_new)+cols-1)//cols\n",
    "    plt.figure(figsize=(cols*2,rows*2))\n",
    "    X_new = X_new.reshape(n,28,28) #unflatten into images\n",
    "    for i,x in enumerate(X_new):\n",
    "        ax = plt.subplot(rows,cols,i+1)\n",
    "        ax.imshow(x, cmap='Greys')\n",
    "        best_guess = np.argmax(probs[i])\n",
    "        best_prob = int(probs[i][best_guess] * 100)\n",
    "        ax.set_title(class_names[best_guess]+f'{best_prob}%')\n",
    "        ax.axis('off')\n",
    "    plt.tight_layout()\n",
    "    plt.show()\n",
    "\n",
    "    return\n",
    "\n",
    "prob5_21()\n",
    "             "
   ]
  },
  {
   "cell_type": "markdown",
   "metadata": {
    "id": "yMF0_QQ0cyoF"
   },
   "source": [
    "The best hyperparameters I found were with batchsize=170 and epochs = 12."
   ]
  },
  {
   "cell_type": "code",
   "execution_count": null,
   "metadata": {
    "colab": {
     "base_uri": "https://localhost:8080/",
     "height": 76,
     "resources": {
      "http://localhost:8080/nbextensions/google.colab/files.js": {
       "data": "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",
       "headers": [
        [
         "content-type",
         "application/javascript"
        ]
       ],
       "ok": true,
       "status": 200,
       "status_text": "OK"
      }
     }
    },
    "id": "WZZlmq0o3GKv",
    "outputId": "3338ec5b-51be-46f7-f0b3-1ee17a34d0d8"
   },
   "outputs": [
    {
     "data": {
      "text/html": [
       "\n",
       "     <input type=\"file\" id=\"files-36956d32-a77b-4a4a-8f00-d287f6376317\" name=\"files[]\" multiple disabled\n",
       "        style=\"border:none\" />\n",
       "     <output id=\"result-36956d32-a77b-4a4a-8f00-d287f6376317\">\n",
       "      Upload widget is only available when the cell has been executed in the\n",
       "      current browser session. Please rerun this cell to enable.\n",
       "      </output>\n",
       "      <script src=\"/nbextensions/google.colab/files.js\"></script> "
      ],
      "text/plain": [
       "<IPython.core.display.HTML object>"
      ]
     },
     "metadata": {},
     "output_type": "display_data"
    },
    {
     "name": "stdout",
     "output_type": "stream",
     "text": [
      "Saving healthcare-dataset-stroke-data.csv to healthcare-dataset-stroke-data (1).csv\n"
     ]
    }
   ],
   "source": [
    "#upload data\n",
    "uploaded = files.upload()"
   ]
  },
  {
   "cell_type": "markdown",
   "metadata": {
    "id": "gPX-VaCkCQqh"
   },
   "source": [
    "# Exercise 5.22\n",
    "We loaded in health data and we will make a multiclass classification problem that will try to determine someones work type based on their BMI, stroke, and hypertension. \n",
    "Note that there are several options for working type. Namely: Private, Self-emplyed, Govt_job, children, and Never_worked. These will be mapped to 0-4 respetively.  "
   ]
  },
  {
   "cell_type": "code",
   "execution_count": null,
   "metadata": {
    "id": "e3pYWjKeB-kT"
   },
   "outputs": [],
   "source": [
    "def prob5_23():\n",
    "    #get dataframe and corresponding values\n",
    "    df = pd.read_csv('healthcare-dataset-stroke-data.csv')\n",
    "    df = df[df['bmi'].notna()]\n",
    "    unique_work_types = pd.unique(df['work_type'])\n",
    "\n",
    "    #drop rows with na values\n",
    "\n",
    "    work_type = df['work_type'].values\n",
    "    BMI = df['bmi'].values\n",
    "    hypertensive = df['hypertension'].values\n",
    "    stroke = df['stroke'].values\n",
    "\n",
    "    for i, wt in enumerate(unique_work_types):\n",
    "        #get the mask for the work type\n",
    "        mask = work_type == wt \n",
    "        #get the corresponding bmi, hypertension, and stroke\n",
    "        corresponding_bmi = BMI[mask].reshape(-1, 1)\n",
    "        corresponding_hyper = hypertensive[mask].reshape(-1, 1)\n",
    "        corresponding_stroke =  stroke[mask].reshape(-1, 1)\n",
    "        #make the labels\n",
    "        labels = i*np.ones(corresponding_bmi.size)\n",
    "\n",
    "        current_identifiers = np.hstack((corresponding_bmi, \n",
    "                                        corresponding_hyper, \n",
    "                                        corresponding_stroke))\n",
    "        if i == 0:\n",
    "            all_labels = labels\n",
    "            all_identifiers = current_identifiers\n",
    "        else:\n",
    "            all_identifiers = np.vstack((all_identifiers, \n",
    "                                         current_identifiers))\n",
    "            all_labels = np.concatenate((all_labels,labels))\n",
    "\n",
    "    #now we can make our classifier\n",
    "    X_train, X_test, y_train, y_test = train_test_split(all_identifiers, all_labels, train_size=0.3)\n",
    "    #c_values we will test\n",
    "    c_vals = np.linspace(0.01, 1, 25) \n",
    "    #test all solvers\n",
    "    solver_types = ['newton-cg', 'lbfgs', 'sag', 'saga']\n",
    "    #test all penalty parameters\n",
    "    available_penalties = [ ['l2'], ['l2'], ['l2'], ['elasticnet', 'l1', 'l2'] ]\n",
    "    l1_ratios = np.linspace(0.1, 0.99, 10)\n",
    "    max_score = 0\n",
    "    best_cval = 0\n",
    "    best_solver = None\n",
    "    best_penalty = None\n",
    "    best_ratio = None\n",
    "    #iterate through and find best sover, penalty type, and corresponding c_value.  \n",
    "    for i, solver in enumerate(solver_types):\n",
    "        for penalty in available_penalties[i]:\n",
    "            for c in c_vals:\n",
    "                for ratio in l1_ratios:\n",
    "                    LRC = LogisticRegression(penalty = penalty, solver = solver, C=c, multi_class='multinomial', l1_ratio = ratio, n_jobs = -1)\n",
    "                    #train\n",
    "                    LRC.fit(X_train, y_train)\n",
    "                    #score\n",
    "                    curr_score = LRC.score(X_test, y_test)\n",
    "                    #update the best parameters\n",
    "                    if curr_score > max_score:\n",
    "                        max_score = curr_score\n",
    "                        best_cval = c\n",
    "                        best_solver = solver\n",
    "                        best_penalty = penalty\n",
    "                        best_ratio = ratio\n",
    "\n",
    "\n",
    "    return max_score, best_cval, best_solver, best_penalty, best_ratio\n",
    "\n",
    "max_score, best_cval, best_solver, best_penalty, best_ratio = prob5_23()"
   ]
  },
  {
   "cell_type": "code",
   "execution_count": null,
   "metadata": {
    "colab": {
     "base_uri": "https://localhost:8080/"
    },
    "id": "FURZtDpu6wyf",
    "outputId": "51f1050c-7b29-4f5e-eac6-b283884330ce"
   },
   "outputs": [
    {
     "name": "stdout",
     "output_type": "stream",
     "text": [
      "Best Regularization and Hyper Parameters:\n",
      "Best Score: 0.6406750072737852\n",
      "Best Regularization Parameters: 0.0925\n",
      "Best Solver: lbfgs\n",
      "Best Penalty: l2\n"
     ]
    }
   ],
   "source": [
    "print('Best Regularization and Hyper Parameters:')\n",
    "print('Best Score:', max_score)\n",
    "print('Best Regularization Parameters:', best_cval)\n",
    "print('Best Solver:', best_solver)\n",
    "print('Best Penalty:', best_penalty)\n",
    "if best_penalty == 'elasticnet':\n",
    "    print('Best Ratio:', best_ratio)"
   ]
  },
  {
   "cell_type": "markdown",
   "metadata": {
    "id": "Akoa1JxRE7LB"
   },
   "source": [
    "For the mutliclass regression problem that we are trying to solve (predict job types by stroke, hypertension, and BMI) we chose our our regularization model by looping through all possible combinations and getting the combination that gave the best score. Similar to problems 19 and 20 we did a 30-70 train-test-split. The best parameters we found are listed below:\n",
    "\n",
    "Best Regularization and Hyper Parameters:\n",
    "\n",
    "Best Score: 0.6406750072737852\n",
    "\n",
    "Best Regularization Parameters: 0.0925\n",
    "\n",
    "Best Solver: lbfgs\n",
    "\n",
    "Best Penalty: l2\n",
    "\n",
    "The goal of this problem was to see if we could identify the work type of people from their medical state. Unfortunately, at least for this type of classification, it seems that it isn't possible. We are getting 64% accuracy which is nowhere near where you want a classification model to be. Unless we get more data points it seems that we can't classify (very well) work types based on medical history. "
   ]
  },
  {
   "cell_type": "code",
   "execution_count": null,
   "metadata": {
    "id": "rD5ACRDDELGo"
   },
   "outputs": [],
   "source": []
  }
 ],
 "metadata": {
  "colab": {
   "collapsed_sections": [],
   "name": "osman_caelan_5_4ipynb",
   "provenance": []
  },
  "kernelspec": {
   "display_name": "Python 3 (ipykernel)",
   "language": "python",
   "name": "python3"
  },
  "language_info": {
   "codemirror_mode": {
    "name": "ipython",
    "version": 3
   },
   "file_extension": ".py",
   "mimetype": "text/x-python",
   "name": "python",
   "nbconvert_exporter": "python",
   "pygments_lexer": "ipython3",
   "version": "3.8.11"
  }
 },
 "nbformat": 4,
 "nbformat_minor": 1
}