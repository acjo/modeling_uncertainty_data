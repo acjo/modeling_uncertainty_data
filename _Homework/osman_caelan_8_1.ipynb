{
 "cells": [
  {
   "cell_type": "code",
   "execution_count": 1,
   "id": "976d58c5",
   "metadata": {},
   "outputs": [],
   "source": [
    "import numpy as np\n",
    "from scipy.stats import ttest_1samp, ttest_ind"
   ]
  },
  {
   "cell_type": "markdown",
   "id": "af3bd374",
   "metadata": {},
   "source": [
    "# Exercise 8.1"
   ]
  },
  {
   "cell_type": "code",
   "execution_count": 2,
   "id": "4146caec",
   "metadata": {},
   "outputs": [
    {
     "data": {
      "text/plain": [
       "Ttest_1sampResult(statistic=-2.250401893367499, pvalue=0.029581516917654448)"
      ]
     },
     "execution_count": 2,
     "metadata": {},
     "output_type": "execute_result"
    }
   ],
   "source": [
    "data = np.array([9, 13, 24, 16, 21, 18, 14, 15])\n",
    "ttest_1samp(data, 20, alternative='less')"
   ]
  },
  {
   "cell_type": "markdown",
   "id": "db44e8ad",
   "metadata": {},
   "source": [
    "# Exercise 8.2"
   ]
  },
  {
   "cell_type": "code",
   "execution_count": 3,
   "id": "8b611ed8",
   "metadata": {},
   "outputs": [
    {
     "data": {
      "text/plain": [
       "Ttest_indResult(statistic=-1.8534061896456462, pvalue=0.05047375069757205)"
      ]
     },
     "execution_count": 3,
     "metadata": {},
     "output_type": "execute_result"
    }
   ],
   "source": [
    "a = np.array([21, 18, 9, 22, 11])\n",
    "b = np.array([19, 28, 21, 18, 25])\n",
    "ttest_ind(a, b, alternative='less')"
   ]
  }
 ],
 "metadata": {
  "kernelspec": {
   "display_name": "Python 3 (ipykernel)",
   "language": "python",
   "name": "python3"
  },
  "language_info": {
   "codemirror_mode": {
    "name": "ipython",
    "version": 3
   },
   "file_extension": ".py",
   "mimetype": "text/x-python",
   "name": "python",
   "nbconvert_exporter": "python",
   "pygments_lexer": "ipython3",
   "version": "3.8.8"
  }
 },
 "nbformat": 4,
 "nbformat_minor": 5
}
