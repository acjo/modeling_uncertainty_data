{
 "cells": [
  {
   "cell_type": "markdown",
   "id": "83a43403",
   "metadata": {},
   "source": [
    "# Exercise 9.3 (v)"
   ]
  },
  {
   "cell_type": "code",
   "execution_count": 4,
   "id": "e1806fa3",
   "metadata": {},
   "outputs": [
    {
     "name": "stdout",
     "output_type": "stream",
     "text": [
      "power = 1\n",
      "[0.25       0.08333333 0.08333333 0.33333333 0.08333333 0.16666667]\n",
      "\n",
      "power = 10\n",
      "[0.27734375 0.14713542 0.14713542 0.26822917 0.09244792 0.06770833]\n",
      "\n",
      "power = 100\n",
      "[0.23076975 0.15384573 0.15384573 0.30769234 0.07692325 0.0769232 ]\n",
      "\n",
      "power = 1000\n",
      "[0.23076923 0.15384615 0.15384615 0.30769231 0.07692308 0.07692308]\n",
      "\n",
      "power = 10000\n",
      "[0.23076923 0.15384615 0.15384615 0.30769231 0.07692308 0.07692308]\n",
      "\n",
      "power = 100000\n",
      "[0.23076923 0.15384615 0.15384615 0.30769231 0.07692308 0.07692308]\n",
      "\n"
     ]
    }
   ],
   "source": [
    "import numpy as np\n",
    "\n",
    "def problem9_3_5():\n",
    "    #get initial probability distribution\n",
    "    X0 = 1/6 * np.ones(6)\n",
    "    #get power values\n",
    "    power = 10**np.arange(0, 6)\n",
    "    #define our transition matrix\n",
    "    Q = np.array([[0, 1, 0.5, 0, 0, 0], \n",
    "                  [0, 0, 0, 0.5, 0, 0], \n",
    "                  [0, 0, 0, 0.5, 0, 0], \n",
    "                  [1, 0, 0,0, 0, 1], \n",
    "                  [0, 0, 0.5, 0, 0, 0], \n",
    "                  [0, 0, 0, 0, 1, 0]])\n",
    "    \n",
    "    #now we can print out our marginal distribution for each p in power\n",
    "    for p in power:\n",
    "        #print corresponding marginal distribution\n",
    "        new_Q = np.linalg.matrix_power(Q, p)\n",
    "        MD = np.linalg.matrix_power(Q, p) @ X0\n",
    "        print('power = ' + str(p), MD, sep='\\n')\n",
    "        print()\n",
    "\n",
    "    \n",
    "    \n",
    "problem9_3_5()"
   ]
  },
  {
   "cell_type": "code",
   "execution_count": null,
   "id": "2dfc2a93",
   "metadata": {},
   "outputs": [],
   "source": []
  }
 ],
 "metadata": {
  "kernelspec": {
   "display_name": "Python 3.8.11 64-bit ('base': conda)",
   "language": "python",
   "name": "python3811jvsc74a57bd0a3787f4cb79ecec69b787db7199d8bde05c4992db9bd29a2a965f7beb5defefb"
  },
  "language_info": {
   "codemirror_mode": {
    "name": "ipython",
    "version": 3
   },
   "file_extension": ".py",
   "mimetype": "text/x-python",
   "name": "python",
   "nbconvert_exporter": "python",
   "pygments_lexer": "ipython3",
   "version": "3.8.12"
  }
 },
 "nbformat": 4,
 "nbformat_minor": 5
}
