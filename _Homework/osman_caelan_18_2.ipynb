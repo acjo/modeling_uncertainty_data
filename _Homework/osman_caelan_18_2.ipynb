{
 "cells": [
  {
   "cell_type": "markdown",
   "metadata": {},
   "source": [
    "# Homework 18.2\n",
    "# Caelan Osman\n",
    "# March 25, 2022"
   ]
  },
  {
   "cell_type": "code",
   "execution_count": 3,
   "metadata": {},
   "outputs": [
    {
     "name": "stderr",
     "output_type": "stream",
     "text": [
      "2022-03-25 14:19:26.778716: W tensorflow/stream_executor/platform/default/dso_loader.cc:64] Could not load dynamic library 'libcudart.so.11.0'; dlerror: libcudart.so.11.0: cannot open shared object file: No such file or directory\n",
      "2022-03-25 14:19:26.778748: I tensorflow/stream_executor/cuda/cudart_stub.cc:29] Ignore above cudart dlerror if you do not have a GPU set up on your machine.\n"
     ]
    }
   ],
   "source": [
    "import numpy as np\n",
    "from sklearn.svm import SVC\n",
    "from sklearn.model_selection import train_test_split, cross_val_score, GridSearchCV\n",
    "from keras.datasets import fashion_mnist"
   ]
  },
  {
   "cell_type": "markdown",
   "metadata": {},
   "source": [
    "## Exercise 18.6\n",
    "### Part 1"
   ]
  },
  {
   "cell_type": "code",
   "execution_count": 12,
   "metadata": {},
   "outputs": [
    {
     "name": "stdout",
     "output_type": "stream",
     "text": [
      "Identity Map Kernel: \n",
      "param:  C\n",
      "param value:  3.5\n",
      "param:  break_ties\n",
      "param value:  True\n",
      "best score:  0.09600000000000002\n"
     ]
    }
   ],
   "source": [
    "def prob18_6_1():\n",
    "\n",
    "    # load in data\n",
    "    (X_train, y_train), (X_test, y_test) =  fashion_mnist.load_data()\n",
    "    random_choice = np.random.choice(np.arange(0, 60000), size=6000)\n",
    "    x_train = X_train[random_choice]\n",
    "    y_train = y_train[random_choice]\n",
    "\n",
    "\n",
    "    # set simple kernel\n",
    "    kernel = np.inner\n",
    "\n",
    "    svc = SVC(kernel=kernel)\n",
    "\n",
    "    params = {'break_ties': [True, False], \n",
    "              'C' : np.arange(0.5, 5, 0.5)}\n",
    "    \n",
    "    GS = GridSearchCV(estimator=svc, param_grid=params, n_jobs=6, cv=3)\n",
    "    GS.fit([x.ravel() for x in x_train], y_train)\n",
    "    best_params = GS.best_params_\n",
    "    best_score = GS.best_score_\n",
    "\n",
    "    print('Identity Map Kernel: ')\n",
    "    for key in list(best_params.keys()):\n",
    "        print('param: ', key)\n",
    "        print('param value: ', best_params[key])\n",
    "\n",
    "    print('best score: ', best_score)\n",
    "\n",
    "    return\n",
    "\n",
    "prob18_6_1()"
   ]
  },
  {
   "cell_type": "markdown",
   "metadata": {},
   "source": [
    "### Part 2"
   ]
  },
  {
   "cell_type": "code",
   "execution_count": 16,
   "metadata": {},
   "outputs": [
    {
     "name": "stdout",
     "output_type": "stream",
     "text": [
      "Polynomial Kernel: \n",
      "param:  C\n",
      "param value:  0.5\n",
      "param:  coef0\n",
      "param value:  0\n",
      "param:  degree\n",
      "param value:  2\n",
      "param:  gamma\n",
      "param value:  1\n",
      "best score:  0.725\n"
     ]
    }
   ],
   "source": [
    "def prob18_6_2():\n",
    "\n",
    "    # load in data\n",
    "    (X_train, y_train), (X_test, y_test) =  fashion_mnist.load_data()\n",
    "    random_choice = np.random.choice(np.arange(0, 60000), size=6000)\n",
    "    x_train = X_train[random_choice]\n",
    "    y_train = y_train[random_choice]\n",
    "\n",
    "    svc = SVC(kernel='poly')\n",
    "    params = {'C' : np.arange(0.5, 5,0.5), \n",
    "            'degree': [2, 3, 4, 5], \n",
    "            'coef0': [0, 1, 2], \n",
    "            'gamma': [1, 2]}\n",
    "\n",
    "    GS = GridSearchCV(estimator=svc, param_grid=params, n_jobs=7, cv=2)\n",
    "    GS.fit([x.ravel() for x in x_train], y_train)\n",
    "    best_params = GS.best_params_\n",
    "    best_score = GS.best_score_\n",
    "\n",
    "    print('Polynomial Kernel: ')\n",
    "    for key in list(best_params.keys()):\n",
    "        print('param: ', key)\n",
    "        print('param value: ', best_params[key])\n",
    "\n",
    "    print('best score: ', best_score)\n",
    "    return\n",
    "\n",
    "prob18_6_2()"
   ]
  },
  {
   "cell_type": "markdown",
   "metadata": {},
   "source": [
    "### Part 3"
   ]
  },
  {
   "cell_type": "code",
   "execution_count": 14,
   "metadata": {},
   "outputs": [
    {
     "name": "stdout",
     "output_type": "stream",
     "text": [
      "Radial Basis Kernel: \n",
      "param:  C\n",
      "param value:  1.0\n",
      "param:  gamma\n",
      "param value:  0.001\n",
      "best score:  0.1655\n"
     ]
    }
   ],
   "source": [
    "def prob18_6_3():\n",
    "\n",
    "    # load in data\n",
    "    (X_train, y_train), (X_test, y_test) =  fashion_mnist.load_data()\n",
    "    random_choice = np.random.choice(np.arange(0, 60000), size=6000)\n",
    "    x_train = X_train[random_choice]\n",
    "    y_train = y_train[random_choice]\n",
    "\n",
    "    svc = SVC(kernel='rbf')\n",
    "    params = {'C' : np.arange(0.5, 5,0.5), \n",
    "            'gamma': [10**(-3), 10, 10**3]}\n",
    "\n",
    "    GS = GridSearchCV(estimator=svc, param_grid=params, n_jobs=7, cv=4)\n",
    "    GS.fit([x.ravel() for x in x_train], y_train)\n",
    "\n",
    "    best_params = GS.best_params_\n",
    "    best_score = GS.best_score_\n",
    "\n",
    "    print('Radial Basis Kernel: ')\n",
    "    for key in list(best_params.keys()):\n",
    "        print('param: ', key)\n",
    "        print('param value: ', best_params[key])\n",
    "\n",
    "    print('best score: ', best_score)\n",
    "\n",
    "    return\n",
    "\n",
    "prob18_6_3()"
   ]
  },
  {
   "cell_type": "markdown",
   "metadata": {},
   "source": [
    "In this case the polynomial kernel gave me the best score. "
   ]
  }
 ],
 "metadata": {
  "interpreter": {
   "hash": "a3787f4cb79ecec69b787db7199d8bde05c4992db9bd29a2a965f7beb5defefb"
  },
  "kernelspec": {
   "display_name": "Python 3 (ipykernel)",
   "language": "python",
   "name": "python3"
  },
  "language_info": {
   "codemirror_mode": {
    "name": "ipython",
    "version": 3
   },
   "file_extension": ".py",
   "mimetype": "text/x-python",
   "name": "python",
   "nbconvert_exporter": "python",
   "pygments_lexer": "ipython3",
   "version": "3.8.12"
  }
 },
 "nbformat": 4,
 "nbformat_minor": 2
}
