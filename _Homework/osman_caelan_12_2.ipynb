{
 "cells": [
  {
   "cell_type": "markdown",
   "id": "a590ab4b",
   "metadata": {},
   "source": [
    "## Exercise 12.7"
   ]
  },
  {
   "cell_type": "code",
   "execution_count": 36,
   "id": "3b71ce93",
   "metadata": {},
   "outputs": [],
   "source": [
    "import numpy as np\n",
    "from scipy.stats import bernoulli\n",
    "from scipy.special import binom\n",
    "from IPython.display import display, Latex"
   ]
  },
  {
   "cell_type": "code",
   "execution_count": 20,
   "id": "ae0afc43",
   "metadata": {},
   "outputs": [],
   "source": [
    "def expectation_max_bernoulli(z_vec, θ_vec = None, flips=10, tol=1e-15, maxiter=300):\n",
    "    \n",
    "    # this function computes q_i^t(X=x) for each step\n",
    "    def compute_q(X, θA, θB, z):\n",
    "        if X == 'A':\n",
    "            num = θA**z*(1 -θA)**(flips-z)\n",
    "            denom = num + (θB**z)*((1 - θB)**(flips-z))\n",
    "            return num/denom\n",
    "        elif X == 'B':\n",
    "            num = (θB**z)*((1 -θB)**(flips-z))\n",
    "            denom = num + (θA**z)*((1 -θA)**(flips-z))\n",
    "            return num/denom\n",
    "        else:\n",
    "            raise NotImplementedError\n",
    "        \n",
    "    \n",
    "    # θ_vec isn't given, draw it randomly\n",
    "    if θ_vec is None:\n",
    "        θ_vec = np.random.uniform(low=0, high=1, size=2)\n",
    "        \n",
    "    # now we repeat the update step at most maxiter times    \n",
    "    for j in range(maxiter):\n",
    "        # initalize updates\n",
    "        θA_num = 0\n",
    "        θA_denom = 0\n",
    "        θB_num = 0\n",
    "        θB_denom = 0\n",
    "        for i, zi in enumerate(z_vec):\n",
    "            # calculate updates for A\n",
    "            θA_num += compute_q('A', θ_vec[0], θ_vec[1], zi)*zi\n",
    "            θA_denom += flips*compute_q('A', θ_vec[0], θ_vec[1], zi)\n",
    "            # calculate updates for B\n",
    "            θB_num += compute_q('B', θ_vec[0], θ_vec[1], zi)*zi\n",
    "            θB_denom += flips*compute_q('B', θ_vec[0], θ_vec[1], zi)\n",
    "\n",
    "        θA = θA_num / θA_denom\n",
    "        θB = θB_num / θB_denom\n",
    "        \n",
    "        # check convergence, here we use the 1 norm to check pointwise convergence.\n",
    "        θ_vec_curr = np.array([θA, θB])\n",
    "        if np.linalg.norm(θ_vec_curr - θ_vec, ord=1) < tol:\n",
    "            return θ_vec_curr, True, j+1\n",
    "        \n",
    "        θ_vec = θ_vec_curr.copy()\n",
    "        \n",
    "    return θ_vec, False, j+1"
   ]
  },
  {
   "cell_type": "markdown",
   "id": "a47582c1",
   "metadata": {},
   "source": [
    "### Part 1"
   ]
  },
  {
   "cell_type": "code",
   "execution_count": 41,
   "id": "250c3656",
   "metadata": {},
   "outputs": [
    {
     "data": {
      "text/latex": [
       "Estimate for ($\\theta_A, \\theta_B$): [0.51958312 0.79678907]"
      ],
      "text/plain": [
       "<IPython.core.display.Latex object>"
      ]
     },
     "metadata": {},
     "output_type": "display_data"
    },
    {
     "name": "stdout",
     "output_type": "stream",
     "text": [
      "Converged: True\n",
      "Number of iterations: 38\n"
     ]
    }
   ],
   "source": [
    "def part1():\n",
    "    # initalize data and θ_vec\n",
    "    data = np.array([5, 9, 8, 4, 7])\n",
    "    θ_vec = np.array([0.3, 0.8])\n",
    "    #return ansewr\n",
    "    return expectation_max_bernoulli(data, θ_vec)\n",
    "\n",
    "ans = part1()\n",
    "\n",
    "display(Latex(r'Estimate for ($\\theta_A, \\theta_B$): ' + str(ans[0])))\n",
    "print('Converged:', ans[1])\n",
    "print('Number of iterations:', ans[2])"
   ]
  },
  {
   "cell_type": "markdown",
   "id": "acf792c3",
   "metadata": {},
   "source": [
    "### Part 2"
   ]
  },
  {
   "cell_type": "code",
   "execution_count": 50,
   "id": "c4633245",
   "metadata": {},
   "outputs": [
    {
     "data": {
      "text/latex": [
       "Estimate for ($\\theta_A, \\theta_B$): [0.30504213 0.79553177]"
      ],
      "text/plain": [
       "<IPython.core.display.Latex object>"
      ]
     },
     "metadata": {},
     "output_type": "display_data"
    },
    {
     "name": "stdout",
     "output_type": "stream",
     "text": [
      "Converged: True\n",
      "Number of iterations: 23\n"
     ]
    }
   ],
   "source": [
    "def part2():\n",
    "    # initalize parameters\n",
    "    θ_vec =np.array([0.3, 0.8])\n",
    "    # get data\n",
    "    X = np.random.binomial(1, 1/2, size=20)    \n",
    "    data = np.array([np.random.binomial(10, θ_vec[x], size=1) for x in X ]).flatten()\n",
    "    # return MLE estimate\n",
    "    return expectation_max_bernoulli(data, θ_vec)\n",
    "    \n",
    "    \n",
    "ans = part2()\n",
    "display(Latex(r'Estimate for ($\\theta_A, \\theta_B$): ' + str(ans[0])))\n",
    "print('Converged:', ans[1])\n",
    "print('Number of iterations:', ans[2])"
   ]
  }
 ],
 "metadata": {
  "kernelspec": {
   "display_name": "Python 3.8.11 64-bit ('base': conda)",
   "language": "python",
   "name": "python3811jvsc74a57bd0a3787f4cb79ecec69b787db7199d8bde05c4992db9bd29a2a965f7beb5defefb"
  },
  "language_info": {
   "codemirror_mode": {
    "name": "ipython",
    "version": 3
   },
   "file_extension": ".py",
   "mimetype": "text/x-python",
   "name": "python",
   "nbconvert_exporter": "python",
   "pygments_lexer": "ipython3",
   "version": "3.8.12"
  }
 },
 "nbformat": 4,
 "nbformat_minor": 5
}
