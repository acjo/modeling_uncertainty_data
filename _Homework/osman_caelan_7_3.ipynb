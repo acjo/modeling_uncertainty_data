{
 "cells": [
  {
   "cell_type": "markdown",
   "source": [
    "# Exercise 7.9\n",
    "\n",
    "Let $z_i = f(x_i)$ be coordinates we write the objective function $J$ and the derivative $D_{z_i}J$ for gradient-boosted\n",
    "trees with each of the following loss functions.\n",
    "\n",
    "1. Cross entropy loss for classification with $\\mathscr{Y} = \\{0, 1\\}$.\n",
    "\\begin{align*}\n",
    "\\mathscr{L}(f(x), y) = -(y\\log(f(x)) + (1 - y)\\log(1 - f(x)))\n",
    "\\end{align*}\n",
    "\n",
    "Then the objective function is\n",
    "\\begin{align*}\n",
    "J &= \\frac{-1}{N} \\sum_{i=1}^N (y_i\\log(f(x_i)) + (1 - y_i)\\log(1 - f(x_i)))\\\\\n",
    "    &= \\frac{-1}{N} \\sum_{i=1}^N (y_i\\log(z_i) + (1 - y_i)\\log(1 - z_i))\n",
    "\\end{align*}\n",
    "\n",
    "    and\n",
    "\n",
    "\\begin{align*}\n",
    "D_{z_i} J &= \\frac{\\partial }{\\partial z_i}\\left[\\frac{-1}{N} \\sum_{i=1}^N (y_i\\log(z_i) + (1 - y_i)\\log(1 - z_i))\\right]\\\\\n",
    "&= \\frac{-1}{N} \\left[ \\frac{y_i}{z_i} - \\frac{1 - y_i}{1 -z_i} \\right]\n",
    "\\end{align*}\n",
    "\n",
    "\n",
    "2. Absolute loss for regression $\\mathscr{L}(f(x), y) = |f(x) - y|$ then the objective function is\n",
    "\\begin{align*}\n",
    "J &= \\frac{1}{N} \\sum_{i=1}^N |f(x_i) - y_i|\\\\\n",
    "    &= \\frac{1}{N} \\sum_{i=1}^N |z_i - y_i|\\\\\n",
    "    &= \\frac{1}{N} \\sum_{i=1}^N\n",
    "   \\begin{cases}\n",
    "   z_i - y_i & \\text{ if } (z_i - y_i) \\geq 0\\\\\n",
    "   y_i - z_i & \\text{ if } (z_i - y_i) < 0\n",
    "   \\end{cases}\n",
    "\\end{align*}\n",
    "This gives\n",
    "\n",
    "\\begin{align*}\n",
    "D_{z_i} J &= \\frac{\\partial}{\\partial z_i}\n",
    "    \\left[\\frac{1}{N} \\sum_{i=1}^N\n",
    "   \\begin{cases}\n",
    "   z_i - y_i & \\text{ if } (z_i - y_i) \\geq 0\\\\\n",
    "   y_i - z_i & \\text{ if } (z_i - y_i) < 0\n",
    "   \\end{cases}\n",
    "   \\right] = \\frac{1}{N}\n",
    "   \\begin{cases}\n",
    "   1 & \\text{ if } (z_i - y_i) >0\\\\\n",
    "   -1 & \\text{ if } (z_i - y_i) < 0\n",
    "   \\end{cases}\n",
    "\\end{align*}\n",
    "Notice that we went from $\\geq $ to $> $ because the absolute value funciton is not differentiable at 0.\n",
    "\n",
    "3. Log loss for classification with $\\mathscr{Y} = \\{-1, 1\\}$. $\\mathscr{L}(f(x), y) = \\log\\left( 1+ e^{-yf(x)}\\right)$.\n",
    "This gives the objective function as\n",
    "\n",
    "\\begin{align*}\n",
    "J &= \\frac{1}{N} \\sum_{i=1}^N \\log\\left( 1+ e^{-y_if(x_i)}\\right)\\\\\n",
    "    &= \\frac{1}{N} \\sum_{i=1}^N \\log\\left( 1+ e^{-y_iz_i}\\right)\n",
    "\\end{align*}\n",
    "\n",
    "then\n",
    "\n",
    "\\begin{align*}\n",
    "    D_{z_i}J &= \\frac{\\partial}{\\partial z_i}\\left[\\frac{1}{N} \\sum_{i=1}^N \\log\\left( 1+ e^{-y_iz_i}\\right)\\right] \\\\\n",
    "    &= \\frac{-ye^{-yz}}{N(1 + e^{-y_iz_i})}\n",
    "\\end{align*}\n"
   ],
   "metadata": {
    "collapsed": false,
    "pycharm": {
     "name": "#%% md\n"
    }
   }
  },
  {
   "cell_type": "code",
   "execution_count": 1,
   "metadata": {
    "collapsed": true
   },
   "outputs": [],
   "source": [
    "import numpy as np\n",
    "import pandas as pd\n",
    "from sklearn.ensemble import GradientBoostingClassifier\n",
    "from sklearn.ensemble import GradientBoostingRegressor\n",
    "from sklearn.model_selection import train_test_split"
   ]
  },
  {
   "cell_type": "markdown",
   "source": [
    "# Exercise 7.10"
   ],
   "metadata": {
    "collapsed": false,
    "pycharm": {
     "name": "#%% md\n"
    }
   }
  },
  {
   "cell_type": "code",
   "execution_count": null,
   "outputs": [],
   "source": [
    "def problem7_10():\n",
    "\n",
    "    return\n",
    "problem7_10()"
   ],
   "metadata": {
    "collapsed": false,
    "pycharm": {
     "name": "#%%\n"
    }
   }
  },
  {
   "cell_type": "markdown",
   "source": [
    "# Exercise 7.11\n",
    "\n"
   ],
   "metadata": {
    "collapsed": false,
    "pycharm": {
     "name": "#%% md\n"
    }
   }
  }
 ],
 "metadata": {
  "kernelspec": {
   "display_name": "Python 3",
   "language": "python",
   "name": "python3"
  },
  "language_info": {
   "codemirror_mode": {
    "name": "ipython",
    "version": 2
   },
   "file_extension": ".py",
   "mimetype": "text/x-python",
   "name": "python",
   "nbconvert_exporter": "python",
   "pygments_lexer": "ipython2",
   "version": "2.7.6"
  }
 },
 "nbformat": 4,
 "nbformat_minor": 0
}